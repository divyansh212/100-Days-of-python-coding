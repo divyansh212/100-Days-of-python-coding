{
  "nbformat": 4,
  "nbformat_minor": 0,
  "metadata": {
    "colab": {
      "provenance": [],
      "authorship_tag": "ABX9TyN/Su9HPeYoQVsnRRfN8nTL",
      "include_colab_link": true
    },
    "kernelspec": {
      "name": "python3",
      "display_name": "Python 3"
    },
    "language_info": {
      "name": "python"
    }
  },
  "cells": [
    {
      "cell_type": "markdown",
      "metadata": {
        "id": "view-in-github",
        "colab_type": "text"
      },
      "source": [
        "<a href=\"https://colab.research.google.com/github/divyansh212/100-Days-of-python-coding/blob/main/1.ipynb\" target=\"_parent\"><img src=\"https://colab.research.google.com/assets/colab-badge.svg\" alt=\"Open In Colab\"/></a>"
      ]
    },
    {
      "cell_type": "code",
      "execution_count": 13,
      "metadata": {
        "colab": {
          "base_uri": "https://localhost:8080/"
        },
        "id": "cdxDyg8zLMG3",
        "outputId": "d963cbcf-6af6-44db-b29a-4f11c9486e65"
      },
      "outputs": [
        {
          "output_type": "stream",
          "name": "stdout",
          "text": [
            "enter the first number\n",
            " =5\n",
            "`enter the second number\n",
            " =5\n",
            "enter the operation you want(addition,subtraction, division , multiplication or modulo) \n",
            " =division\n",
            "1.0\n"
          ]
        }
      ],
      "source": [
        "#this is lec 2\n",
        "a=int(input(\"enter the first number\\n =\"))\n",
        "b=int(input(\"`enter the second number\\n =\"))\n",
        "c=input(\"enter the operation you want(addition,subtraction, division , multiplication or modulo) \\n =\")\n",
        "if c==\"addition\":\n",
        "  print(a+b)\n",
        "elif c==\"subtraction\":\n",
        "  print(a-b)\n",
        "elif c==\"division\":\n",
        "  print(a/b)\n",
        "elif c==\"multiplication\":\n",
        "  print(a*b)\n",
        "elif c==\"modulo\":\n",
        "  print(a%b)"
      ]
    },
    {
      "cell_type": "code",
      "source": [
        "#this is lec 3\n",
        "enter_the_char=input(\"enter the char\\n\")\n",
        "if enter_the_char==enter_the_char.upper():\n",
        "  print(\"upper case\")\n",
        "elif enter_the_char==enter_the_char.lower():\n",
        "  print(\"lower case\")\n",
        "else:\n",
        "  print(\"mixed\")"
      ],
      "metadata": {
        "colab": {
          "base_uri": "https://localhost:8080/"
        },
        "id": "BxnfCo-Qlo39",
        "outputId": "7c501e7c-45c5-485e-a739-6804adfaf4c0"
      },
      "execution_count": 16,
      "outputs": [
        {
          "output_type": "stream",
          "name": "stdout",
          "text": [
            "enter the char\n",
            "oP\n",
            "mixed\n"
          ]
        }
      ]
    },
    {
      "cell_type": "code",
      "source": [
        "N=int(input(\"enter the number N \\n =\"))\n",
        "sum=0\n",
        "for i in range(1,N+1):\n",
        "  if i%3==0:\n",
        "    sum=sum+i\n",
        "print(sum)\n",
        "#lec 3\n",
        "#homework 1 completed"
      ],
      "metadata": {
        "colab": {
          "base_uri": "https://localhost:8080/"
        },
        "id": "H9IPENJTqq-s",
        "outputId": "1e71d45c-2c5c-4e1f-a719-939265473d1b"
      },
      "execution_count": 18,
      "outputs": [
        {
          "output_type": "stream",
          "name": "stdout",
          "text": [
            "enter the number N \n",
            " =30\n",
            "165\n"
          ]
        }
      ]
    },
    {
      "cell_type": "code",
      "source": [
        "#lec 3\n",
        "N=int(input(\"enter the number N \\n =\"))\n",
        "product=1\n",
        "for i in range (1,N+1):\n",
        "  product=product*i\n",
        "print(product)\n",
        "#homework2 completed"
      ],
      "metadata": {
        "colab": {
          "base_uri": "https://localhost:8080/"
        },
        "id": "MiZgAvk1ryQc",
        "outputId": "4b1eb17b-1953-4ed1-da33-89a2c8c6c27e"
      },
      "execution_count": 29,
      "outputs": [
        {
          "output_type": "stream",
          "name": "stdout",
          "text": [
            "enter the number N \n",
            " =0\n",
            "1\n"
          ]
        }
      ]
    }
  ]
}