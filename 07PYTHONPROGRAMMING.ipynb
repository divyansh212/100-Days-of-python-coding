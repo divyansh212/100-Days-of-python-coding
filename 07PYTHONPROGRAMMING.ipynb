{
  "nbformat": 4,
  "nbformat_minor": 0,
  "metadata": {
    "colab": {
      "provenance": [],
      "authorship_tag": "ABX9TyNrwZErApzWyC4bdWS8qt3M",
      "include_colab_link": true
    },
    "kernelspec": {
      "name": "python3",
      "display_name": "Python 3"
    },
    "language_info": {
      "name": "python"
    }
  },
  "cells": [
    {
      "cell_type": "markdown",
      "metadata": {
        "id": "view-in-github",
        "colab_type": "text"
      },
      "source": [
        "<a href=\"https://colab.research.google.com/github/divyansh212/100-Days-of-python-coding/blob/main/07PYTHONPROGRAMMING.ipynb\" target=\"_parent\"><img src=\"https://colab.research.google.com/assets/colab-badge.svg\" alt=\"Open In Colab\"/></a>"
      ]
    },
    {
      "cell_type": "code",
      "execution_count": null,
      "metadata": {
        "id": "DTHSWrouBsdZ",
        "outputId": "1dbfc927-02c6-41df-9fe3-d6a96befb8a0",
        "colab": {
          "base_uri": "https://localhost:8080/"
        }
      },
      "outputs": [
        {
          "metadata": {
            "tags": null
          },
          "name": "stdout",
          "output_type": "stream",
          "text": [
            "_ _ _ \n",
            "m__\n",
            "m__ma_\n"
          ]
        }
      ],
      "source": [
        "from re import I\n",
        "import random\n",
        "dictationary=[\"man\",\"woman\",\"bear\"]\n",
        "word_chosen=random.choice(dictationary)\n",
        "lives=len(word_chosen)\n",
        "blank=[]\n",
        "for i in range(1,lives+1):\n",
        "  blank.append(\"_ \")\n",
        "word=\"\".join(blank)\n",
        "print(word)\n",
        "right=''\n",
        "prev_right=[]\n",
        "Game_over=False\n",
        "while not Game_over:\n",
        "  Guess=input(\"Enter the letter\\n =>\").lower()\n",
        "  for i in word_chosen:\n",
        "    if i==Guess:\n",
        "      right=word.replace(\"_\",i)\n",
        "      prev_right.append(Guess)\n",
        "      print(\"Right Guess\")\n",
        "    elif i in prev_right:\n",
        "      right+=i\n",
        "    elif i!=Guess:\n",
        "      lives-=lives\n",
        "      print(\"wrong Guess\")\n",
        "  if right==word_chosen:\n",
        "    print(\"You Won\")\n",
        "    Game_over=True\n",
        "  else:\n",
        "    print(\"You Lost\")\n",
        "\n",
        "\n",
        "\n",
        "\n",
        "\n",
        "\n",
        "\n",
        "\n",
        "\n",
        "\n"
      ]
    },
    {
      "cell_type": "code",
      "source": [],
      "metadata": {
        "id": "ZtzKFrDnwb4K"
      },
      "execution_count": null,
      "outputs": []
    },
    {
      "cell_type": "code",
      "source": [
        "guess=input(\"Guess a LETTER\\n =\")\n",
        "print(word_chosen)\n",
        "for i in word_chosen:\n",
        "  if i==guess:\n",
        "    print(\"right\")\n",
        "  else:\n",
        "    print(\"wrong\")"
      ],
      "metadata": {
        "id": "li2Gx_QyvVwP",
        "outputId": "1fa674b8-d1cd-41d4-9081-e128c94ae7e1",
        "colab": {
          "base_uri": "https://localhost:8080/"
        }
      },
      "execution_count": 10,
      "outputs": [
        {
          "output_type": "stream",
          "name": "stdout",
          "text": [
            "Guess a LETTER\n",
            " =k\n",
            "woman\n",
            "wrong\n",
            "wrong\n",
            "wrong\n",
            "wrong\n",
            "wrong\n"
          ]
        }
      ]
    }
  ]
}