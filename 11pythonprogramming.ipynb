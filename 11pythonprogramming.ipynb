{
  "cells": [
    {
      "cell_type": "markdown",
      "metadata": {
        "id": "view-in-github",
        "colab_type": "text"
      },
      "source": [
        "<a href=\"https://colab.research.google.com/github/divyansh212/100-Days-of-python-coding/blob/main/11pythonprogramming.ipynb\" target=\"_parent\"><img src=\"https://colab.research.google.com/assets/colab-badge.svg\" alt=\"Open In Colab\"/></a>"
      ]
    },
    {
      "cell_type": "code",
      "source": [
        "import random\n",
        "print(\"WELCOME TO THE BLACJACK GAME\")\n",
        "K=10\n",
        "Q=10\n",
        "J=10\n",
        "Ace=1 or 11\n",
        "Deck=[2,3,4,5,6,7,8,9,10,K,Q,J,Ace]\n",
        "user_cards=[]\n",
        "dealer_cards=[]\n",
        "user_value=0\n",
        "dealer_value=0\n",
        "\n",
        "def picking_cards(list):\n",
        "  list.append(random.choice(Deck))\n",
        "def card_value(list,value):\n",
        "  value=0\n",
        "  for i in list:\n",
        "    value+=i\n",
        "  return value\n",
        "for i in range(2):\n",
        "  picking_cards(list=user_cards)\n",
        "for i in range(2):\n",
        "  picking_cards(list=dealer_cards)\n",
        "print(\"Your cards are \",user_cards,f\"\\nuser cards value {card_value(user_cards,user_value)}\")\n",
        "print(dealer_cards)\n",
        "print(card_value(dealer_cards,dealer_value))\n",
        "print(\"Dealer cards are \",\"[\",dealer_cards[0],\",\",\"*\",\"]\",)\n",
        "Game_over=True\n",
        "while Game_over:\n",
        "  if user_value<17:\n",
        "    picking_cards(user_cards)\n",
        "    card_value(user_cards,user)"
      ],
      "metadata": {
        "id": "oS4qmjS1QO-z",
        "outputId": "9789f69c-81a7-4812-b8d9-83d488c24f39",
        "colab": {
          "base_uri": "https://localhost:8080/"
        }
      },
      "execution_count": 19,
      "outputs": [
        {
          "output_type": "stream",
          "name": "stdout",
          "text": [
            "WELCOME TO THE BLACJACK GAME\n",
            "Your cards are  [1, 5] \n",
            "user cards value 6\n",
            "[4, 10]\n",
            "14\n",
            "Dealer cards are  [ 4 , * ]\n",
            "Your cards are  [1, 5, 9] \n",
            "user cards value 15\n"
          ]
        }
      ]
    }
  ],
  "metadata": {
    "colab": {
      "name": "Welcome To Colab",
      "provenance": [],
      "include_colab_link": true
    },
    "kernelspec": {
      "display_name": "Python 3",
      "name": "python3"
    }
  },
  "nbformat": 4,
  "nbformat_minor": 0
}