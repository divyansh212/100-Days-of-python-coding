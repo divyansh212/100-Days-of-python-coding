{
  "nbformat": 4,
  "nbformat_minor": 0,
  "metadata": {
    "colab": {
      "provenance": [],
      "authorship_tag": "ABX9TyMgPaD7LSf23Iqp3Fa7gX+e",
      "include_colab_link": true
    },
    "kernelspec": {
      "name": "python3",
      "display_name": "Python 3"
    },
    "language_info": {
      "name": "python"
    }
  },
  "cells": [
    {
      "cell_type": "markdown",
      "metadata": {
        "id": "view-in-github",
        "colab_type": "text"
      },
      "source": [
        "<a href=\"https://colab.research.google.com/github/divyansh212/100-Days-of-python-coding/blob/main/17Pythonprogramming(intermediate_level).ipynb\" target=\"_parent\"><img src=\"https://colab.research.google.com/assets/colab-badge.svg\" alt=\"Open In Colab\"/></a>"
      ]
    },
    {
      "cell_type": "markdown",
      "source": [
        "Types of cases :-\n",
        "\n",
        "1)**PascalCase**\n",
        "\n",
        "2)**camelCase**\n",
        "\n",
        "3)**Snake_Case**\n"
      ],
      "metadata": {
        "id": "hTIfS4ANYEPF"
      }
    },
    {
      "cell_type": "code",
      "execution_count": 5,
      "metadata": {
        "colab": {
          "base_uri": "https://localhost:8080/"
        },
        "id": "bD9GQUCRNejL",
        "outputId": "00f5df69-420e-4cf5-d172-e5b6d4e6b549"
      },
      "outputs": [
        {
          "output_type": "stream",
          "name": "stdout",
          "text": [
            "0\n",
            "1\n",
            "1\n",
            "0\n"
          ]
        }
      ],
      "source": [
        "class User:\n",
        "  def __init__(self,USER_ID,Username):\n",
        "    self.id=USER_ID\n",
        "    self.username=Username\n",
        "    self.followers=0\n",
        "    self.following=0\n",
        "  def follow(self,user):\n",
        "    user.followers+=1\n",
        "    self.following+=1\n",
        "user_1=User(\"001\",\"DKBHAU\")\n",
        "user_2=User(\"002\",\"DKBOSE\")\n",
        "user_1.follow((user_2))\n",
        "print(user_1.followers)\n",
        "print(user_1.following)\n",
        "print(user_2.followers)\n",
        "print(user_2.following)\n"
      ]
    },
    {
      "cell_type": "code",
      "source": [
        "question_data = [\n",
        "{\"text\": \"A slug's blood is green.\", \"answer\": \"True\"},\n",
        "{\"text\": \"The loudest animal is the African Elephant.\", \"answer\": \"False\"},\n",
        "{\"text\": \"Approximately one quarter of human bones are in the feet.\", \"answer\": \"True\"},\n",
        "{\"text\": \"The total surface area of a human lungs is the size of a football pitch.\", \"answer\": \"True\"},\n",
        "{\"text\": \"In West Virginia, USA, if you accidentally hit an animal with your car, you are free to take it home to eat.\", \"answer\": \"True\"},\n",
        "{\"text\": \"In London, UK, if you happen to die in the House of Parliament, you are entitled to a state funeral.\", \"answer\": \"False\"},\n",
        "{\"text\": \"It is illegal to pee in the Ocean in Portugal.\", \"answer\": \"True\"},\n",
        "{\"text\": \"You can lead a cow down stairs but not up stairs.\", \"answer\": \"False\"},\n",
        "{\"text\": \"Google was originally called 'Backrub'.\", \"answer\": \"True\"},\n",
        "{\"text\": \"Buzz Aldrin's mother's maiden name was 'Moon'.\", \"answer\": \"True\"},\n",
        "{\"text\": \"No piece of square dry paper can be folded in half more than 7 times.\", \"answer\": \"False\"},\n",
        "{\"text\": \"A few ounces of chocolate can to kill a small dog.\", \"answer\": \"True\"}\n",
        "]\n",
        "\n",
        "class Question:\n",
        "  def __init__(self,text,answer):\n",
        "    self.text=text\n",
        "    self.answer=answer\n",
        "\n",
        "Question_bank=[]\n",
        "for i in question_data:\n",
        "  Question_text=i[\"text\"]\n",
        "  Question_answer=i[\"answer\"]\n",
        "  New_Ques=Question(Question_text,Question_answer)\n",
        "  Question_bank.append(New_Ques)\n",
        "class QuizBrain:\n",
        "  def __init__(self,question_list):\n",
        "    self.question_no=0\n",
        "    self.question_list=question_list\n",
        "    self.score=0\n",
        "  def next_question(self):\n",
        "    while self.question_no<len(self.question_list):\n",
        "      current_Question=self.question_list[self.question_no]\n",
        "      user_answer=input(f\"Q{self.question_no+1}{current_Question.text}(True/False):\\n\")\n",
        "      if user_answer==current_Question.answer:\n",
        "        print(\"Your response was correct\\n\")\n",
        "        self.score+=1\n",
        "      else:\n",
        "        print(f\"Wrong Answer {user_answer},correct answer was {current_Question.answer}\")\n",
        "      self.question_no+=1\n",
        "    print(f\"Quiz is finished ,your final score is {(self.score/len(self.question_list))*100}%\")\n",
        "\n",
        "\n",
        "Quiz=QuizBrain(Question_bank)\n",
        "Quiz.next_question()"
      ],
      "metadata": {
        "colab": {
          "base_uri": "https://localhost:8080/"
        },
        "id": "kBtVS3DNP5ii",
        "outputId": "6f205687-8bf7-4549-ecf7-76b30473c134"
      },
      "execution_count": 18,
      "outputs": [
        {
          "output_type": "stream",
          "name": "stdout",
          "text": [
            "Q1A slug's blood is green.(True/False):\n",
            "True\n",
            "Your response was correct\n",
            "\n",
            "Q2The loudest animal is the African Elephant.(True/False):\n",
            "True\n",
            "Wrong Answer True,correct answer was False\n",
            "Q3Approximately one quarter of human bones are in the feet.(True/False):\n",
            "True\n",
            "Your response was correct\n",
            "\n",
            "Q4The total surface area of a human lungs is the size of a football pitch.(True/False):\n",
            "True\n",
            "Your response was correct\n",
            "\n",
            "Q5In West Virginia, USA, if you accidentally hit an animal with your car, you are free to take it home to eat.(True/False):\n",
            "True\n",
            "Q6In London, UK, if you happen to die in the House of Parliament, you are entitled to a state funeral.(True/False):\n",
            "True\n",
            "Your response was correct\n",
            "\n",
            "Wrong Answer True,correct answer was False\n",
            "Q7It is illegal to pee in the Ocean in Portugal.(True/False):\n",
            "True\n",
            "Your response was correct\n",
            "\n",
            "Q8You can lead a cow down stairs but not up stairs.(True/False):\n",
            "True\n",
            "Wrong Answer True,correct answer was False\n",
            "Q9Google was originally called 'Backrub'.(True/False):\n",
            "True\n",
            "Your response was correct\n",
            "\n",
            "Q10Buzz Aldrin's mother's maiden name was 'Moon'.(True/False):\n",
            "True\n",
            "Your response was correct\n",
            "\n",
            "Q11No piece of square dry paper can be folded in half more than 7 times.(True/False):\n",
            "True\n",
            "Wrong Answer True,correct answer was False\n",
            "Q12A few ounces of chocolate can to kill a small dog.(True/False):\n",
            "True\n",
            "Your response was correct\n",
            "\n",
            "Quiz is finished ,your final score is 66.66666666666666%TrueTrueTrueTrueTrueTrueTrue\n"
          ]
        }
      ]
    },
    {
      "cell_type": "markdown",
      "source": [
        "**ATTRIBUTES ARE VARIABLE THAT CLASS HAS**"
      ],
      "metadata": {
        "id": "EFMFYcF6P8OC"
      }
    }
  ]
}