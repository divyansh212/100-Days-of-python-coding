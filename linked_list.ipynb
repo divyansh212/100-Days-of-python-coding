{
  "nbformat": 4,
  "nbformat_minor": 0,
  "metadata": {
    "colab": {
      "provenance": [],
      "authorship_tag": "ABX9TyP7mQ0Wes4HmALAXAPjipXC",
      "include_colab_link": true
    },
    "kernelspec": {
      "name": "python3",
      "display_name": "Python 3"
    },
    "language_info": {
      "name": "python"
    }
  },
  "cells": [
    {
      "cell_type": "markdown",
      "metadata": {
        "id": "view-in-github",
        "colab_type": "text"
      },
      "source": [
        "<a href=\"https://colab.research.google.com/github/divyansh212/100-Days-of-python-coding/blob/main/linked_list.ipynb\" target=\"_parent\"><img src=\"https://colab.research.google.com/assets/colab-badge.svg\" alt=\"Open In Colab\"/></a>"
      ]
    },
    {
      "cell_type": "markdown",
      "source": [
        "**Linked List To Do**\n",
        "\n",
        "1.Node--DONE\n",
        "2.Create a Linked List---DONE\n",
        "3.Len--DONE\n",
        "4.insert from head --DONE\n",
        "5.transverse/print--DONE\n",
        "6.insert from tail--DONE\n",
        "7.insert from middle --\n",
        "8.clear--\n",
        "9.delete from head--\n",
        "10.delete from tail--\n",
        "11.delete by value --\n",
        "12.search by value --\n",
        "13.delete by index --\n",
        "14.search by index --\n",
        "15. array vs linked list--\n",
        "\n"
      ],
      "metadata": {
        "id": "l3iesAZfNCEM"
      }
    },
    {
      "cell_type": "code",
      "execution_count": 10,
      "metadata": {
        "id": "w_QhHX5HJov2"
      },
      "outputs": [],
      "source": [
        "class node :\n",
        "  def __init__(self,value):\n",
        "    self.value=value\n",
        "    self.next=None\n"
      ]
    },
    {
      "cell_type": "code",
      "source": [
        "a=node(1)\n",
        "b=node(2)\n",
        "c=node(3)\n",
        "d=node(4)\n",
        "e=node(5)"
      ],
      "metadata": {
        "id": "_Ta-bJvcKSLM"
      },
      "execution_count": 11,
      "outputs": []
    },
    {
      "cell_type": "code",
      "source": [
        "a.next=b\n",
        "b.next=c\n",
        "c.next=d\n",
        "d.next=e"
      ],
      "metadata": {
        "id": "pYgXZZyRKYj-"
      },
      "execution_count": 12,
      "outputs": []
    },
    {
      "cell_type": "code",
      "source": [
        "print(e.next)"
      ],
      "metadata": {
        "colab": {
          "base_uri": "https://localhost:8080/"
        },
        "id": "dj36GZ-EMJxE",
        "outputId": "fe042b6e-6fe2-464f-f8cd-6f9994c84563"
      },
      "execution_count": 20,
      "outputs": [
        {
          "output_type": "stream",
          "name": "stdout",
          "text": [
            "None\n"
          ]
        }
      ]
    },
    {
      "cell_type": "code",
      "source": [
        "int (0x7a53ad1d6c50)\n",
        "id(b)"
      ],
      "metadata": {
        "colab": {
          "base_uri": "https://localhost:8080/"
        },
        "id": "C1C8DjkEMX2x",
        "outputId": "0819f704-5547-40c0-8d33-0cfb8e008a25"
      },
      "execution_count": 19,
      "outputs": [
        {
          "output_type": "execute_result",
          "data": {
            "text/plain": [
              "134499805260880"
            ]
          },
          "metadata": {},
          "execution_count": 19
        }
      ]
    },
    {
      "cell_type": "code",
      "source": [
        "class node :\n",
        "  def __init__(self,value):\n",
        "    self.value=value\n",
        "    self.next=None"
      ],
      "metadata": {
        "id": "Jnj7lPAJSSL8"
      },
      "execution_count": 25,
      "outputs": []
    },
    {
      "cell_type": "code",
      "source": [
        "#In empty linked list head = null\n",
        "class linkedlist:\n",
        "  def __init__(self):\n",
        "    self.head=None #empty linked list\n",
        "    self.n=0\n",
        "  def __len__(self):\n",
        "    return self.n\n",
        "  def insert_head(self,value):\n",
        "    new_node=node(value)\n",
        "    new_node.next=self.head\n",
        "    self.head=new_node\n",
        "    self.n=self.n+1\n",
        "  def traverse(self):\n",
        "    current=self.head\n",
        "    while current != None:\n",
        "      print(current.value)\n",
        "      current=current.next\n",
        "  def __str__(self):\n",
        "    current=self.head\n",
        "    result=\"\"\n",
        "    while current !=None:\n",
        "      result=result+ str(current.value)+\"->\"\n",
        "      current=current.next\n",
        "    return result[:-2]\n",
        "#to add element in the last of the linked list we have to go through the nodes to reach the last one and set the new node as the last one\n",
        "  def append(self,value):\n",
        "    new_node=node(value)\n",
        "    if self.head==None:\n",
        "      self.head=new_node\n",
        "      self.n=self.n +1\n",
        "      return\n",
        "    current=self.head\n",
        "    while current.next!=None:\n",
        "      current=current.next#at the last node\n",
        "    current.next=new_node\n",
        "    self.n=self.n+1\n",
        "  def insert_after(self,after,value):\n",
        "    new_node=node(value)\n",
        "    current=self.head\n",
        "    while current !=None:\n",
        "      if current.value==after:\n",
        "        break\n",
        "      current=current.next\n",
        "    if current!=None:\n",
        "      new_node.next=current.next\n",
        "      current.next=new_node\n",
        "\n",
        ""
      ],
      "metadata": {
        "id": "KkgG0nADSa3X"
      },
      "execution_count": 64,
      "outputs": []
    },
    {
      "cell_type": "code",
      "source": [
        "L=linkedlist()\n"
      ],
      "metadata": {
        "id": "qcSn-1fyTU3h"
      },
      "execution_count": 65,
      "outputs": []
    },
    {
      "cell_type": "code",
      "source": [
        "L.append(769)\n",
        "print(L)"
      ],
      "metadata": {
        "colab": {
          "base_uri": "https://localhost:8080/"
        },
        "id": "3rSdYPBmibbS",
        "outputId": "f0c7bae8-f309-4920-d0eb-e8044e1d87a8"
      },
      "execution_count": 63,
      "outputs": [
        {
          "output_type": "stream",
          "name": "stdout",
          "text": [
            "769\n"
          ]
        }
      ]
    }
  ]
}