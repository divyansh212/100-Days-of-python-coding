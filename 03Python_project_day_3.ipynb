{
  "nbformat": 4,
  "nbformat_minor": 0,
  "metadata": {
    "colab": {
      "provenance": [],
      "authorship_tag": "ABX9TyMqSziYMAb+23+guMqjF/gF",
      "include_colab_link": true
    },
    "kernelspec": {
      "name": "python3",
      "display_name": "Python 3"
    },
    "language_info": {
      "name": "python"
    }
  },
  "cells": [
    {
      "cell_type": "markdown",
      "metadata": {
        "id": "view-in-github",
        "colab_type": "text"
      },
      "source": [
        "<a href=\"https://colab.research.google.com/github/divyansh212/100-Days-of-python-coding/blob/main/Python_project_day_3.ipynb\" target=\"_parent\"><img src=\"https://colab.research.google.com/assets/colab-badge.svg\" alt=\"Open In Colab\"/></a>"
      ]
    },
    {
      "cell_type": "code",
      "execution_count": 5,
      "metadata": {
        "colab": {
          "base_uri": "https://localhost:8080/"
        },
        "id": "9a-1FrXVewSc",
        "outputId": "daedf354-5d88-48a0-a6bb-e23af73f9f75"
      },
      "outputs": [
        {
          "output_type": "stream",
          "name": "stdout",
          "text": [
            "enter the whole no. You want\n",
            " =7.8\n",
            "your number is odd\n"
          ]
        }
      ],
      "source": [
        "Number=float(input(\"enter the whole no. You want\\n =\"))\n",
        "if Number%2==0:\n",
        "  print(\"your number is even \")\n",
        "elif Number>=0 and Number%2!=0:\n",
        "  print (\"your number is odd\")\n",
        "else:\n",
        "  print (\"your input is invalid \")"
      ]
    },
    {
      "cell_type": "markdown",
      "source": [
        "modulo operator is used to find remainder (%)\n",
        "eg 10%3= 1"
      ],
      "metadata": {
        "id": "3alsPkKwCV6G"
      }
    },
    {
      "cell_type": "code",
      "source": [
        "print(\"welcome to jumanji!!!!\")\n",
        "a=int(input(\"Please Enter Your Age\\n =\"))\n",
        "bill=0\n",
        "if a>=18:\n",
        "  print(\"Your are eligible for this wild game \")\n",
        "  b=input(\"what kind of level you want?(Easy,Medium or Hard)\\n =\")\n",
        "  if b==\"Easy\":\n",
        "    print(\"Your Bill will be $5\")\n",
        "    bill+=5\n",
        "  elif b==\"Medium\":\n",
        "    print(\"Your Bill will be $10\")\n",
        "    bill+=10\n",
        "  elif b==\"Hard\":\n",
        "    print(\"Your Bill will be $15\")\n",
        "    bill+=15\n",
        "  c=input(\"DO You want extra Graphic card(Yes/No)\\n =\")\n",
        "  if c==\"yes\":\n",
        "    print(\"$10 more will be added\")\n",
        "  bill+=10\n",
        "else:\n",
        "  print(\"you are not eligible for this game, Grow Older \")\n",
        "print(f\"Your final bill is going to be ${bill}\")\n"
      ],
      "metadata": {
        "colab": {
          "base_uri": "https://localhost:8080/"
        },
        "id": "DchvnJtiCeS4",
        "outputId": "32ff2455-9ce3-4d49-d372-1053b55a0679"
      },
      "execution_count": 16,
      "outputs": [
        {
          "output_type": "stream",
          "name": "stdout",
          "text": [
            "welcome to jumanji!!!!\n",
            "Please Enter Your Age\n",
            " =34\n",
            "Your are eligible for this wild game \n",
            "what kind of level you want?(Easy,Medium or Hard)\n",
            " =Hard\n",
            "Your Bill will be $15\n",
            "DO You want extra Graphic card(Yes/No)\n",
            " =Yes\n",
            "Your final bill is going to be $25\n"
          ]
        }
      ]
    },
    {
      "cell_type": "code",
      "source": [
        "print(\"!!!!!welcome to king of hell!!!!!!!\")\n",
        "print('''              !\n",
        "             lll\n",
        "          ///     \\\n",
        "         |||       |\n",
        " P_______|[][][][][]_______P\n",
        "++++++++=o0@%@%@%o|||++++++++\n",
        "|l l l ll [] [] []| l l l l l\n",
        "|_______| []=== []| |_______|\n",
        "        |__|| ||___/\n",
        "        Katie Buller    ''')\n",
        "a=input(\"Guards have covered entire palace ,Do YOu want to enter the palace ?\\n =\")\n",
        "if a==\"yes\":\n",
        "  print(\"You have entered the palace successively\")\n",
        "  print('''              !\n",
        "             lll\n",
        "          ///     \\\n",
        "         |||       |\n",
        " P_______|[][][][][]_______P\n",
        "++++++++=o0@%@%@%o|||++++++++\n",
        "|l l l ll [] [] []| l l l l l\n",
        "|_______| []=== []| |_______|\n",
        "        |__|| ||___/\n",
        "\n",
        "          O\n",
        "         /|\\\n",
        "         / \\\n",
        "''')\n",
        "  b=input(\"Do You want to fight the guards \\n =\")\n",
        "  if b==\"Hide\":\n",
        "    print(\"You have entered next level\")\n",
        "    print('''              !\n",
        "             lll\n",
        "          ///     \\\n",
        "         |||       |\n",
        " P_______|[][][][][]_______P\n",
        "++++++++=o0@%@%@%o|||++++++++\n",
        "|l l l ll [] [] []| l l l l l\n",
        "|_______| []=== []| |_______|\n",
        "        |__|| ||___/\n",
        "\n",
        "          O\n",
        "         /|\\\n",
        "         / \\\n",
        "    _    _\n",
        "  | |  | |\n",
        "  | |  | |\n",
        "''')\n",
        "    c=input(\"do you want call your army,types yes or no\\n =\")\n",
        "    if c==\"yes\":\n",
        "      print(\"You have entered the next level\")\n",
        "      d=input(\"the king has lost the battle , do you want to kill him\\n =\")\n",
        "      print('''            ___           ___\n",
        "           /   \\         /   \\\n",
        "          |  O  |       |  O  |\n",
        "          | /|\\ |       | /|\\ |\n",
        "          | / \\ |       | / \\ |\n",
        "          |_____|       |_____|\n",
        "\n",
        "''')\n",
        "      if d==\"yes\":\n",
        "        print(\"You have won the game\")\n",
        "        print('''     ___\n",
        "      /   \\          /   \\\n",
        "     |  O  |        |  O  |\n",
        "     | /|\\ |        | /|\\ |\n",
        "     | / \\ |        | / \\ |\n",
        "     |_____|        |_____|\n",
        "\n",
        "           O\n",
        "          /|\\ king of hell\n",
        "          / \\\n",
        "''')\n",
        "\n",
        "      else:\n",
        "        print(\"The wounded king has  killed you,Game Over :(\")\n",
        "        print('''        _______           o\n",
        "       |  X  X |          |\\\n",
        "       |   ~   |          | \\\n",
        "       | \\___/ |         /  \\\n",
        "       |_______|       _/____\\_\n",
        "         / | \\       /         \\\n",
        "        /  |  \\    o      |\n",
        "       |    |    /|\\     |\n",
        "       |   / \\  / \\      |\n",
        "       |  /   \\          o\n",
        "       | /     \\\n",
        "       |/\n",
        "      / \\_\n",
        "     /    \\\n",
        "    /      \\\n",
        "''')\n",
        "    else:\n",
        "      print(\"Guards have found you and killed you,Game Over :(\")\n",
        "  elif b==\"yes\":\n",
        "    print(\"Guards have found you and killed you,Game Over :(\")\n",
        "\n",
        "\n",
        "\n",
        "elif a== \"No\":\n",
        "  print(\"Guards have found you and killed you,Game Over :(\")\n",
        "else:\n",
        "  print(\"Invalid Input\")\n",
        ""
      ],
      "metadata": {
        "colab": {
          "base_uri": "https://localhost:8080/"
        },
        "id": "paOuCoOFPpJ-",
        "outputId": "96d2fd23-fc65-4517-deda-1abf46a7a6e1"
      },
      "execution_count": 19,
      "outputs": [
        {
          "output_type": "stream",
          "name": "stdout",
          "text": [
            "!!!!!welcome to king of hell!!!!!!!\n",
            "              !\n",
            "             lll\n",
            "          ///              |||       |\n",
            " P_______|[][][][][]_______P\n",
            "++++++++=o0@%@%@%o|||++++++++\n",
            "|l l l ll [] [] []| l l l l l\n",
            "|_______| []=== []| |_______|\n",
            "        |__|| ||___/\n",
            "        Katie Buller    \n",
            "Guards have covered entire palace ,Do YOu want to enter the palace ?\n",
            " =yes\n",
            "You have entered the palace successively\n",
            "              !\n",
            "             lll\n",
            "          ///              |||       |\n",
            " P_______|[][][][][]_______P\n",
            "++++++++=o0@%@%@%o|||++++++++\n",
            "|l l l ll [] [] []| l l l l l\n",
            "|_______| []=== []| |_______|\n",
            "        |__|| ||___/\n",
            "          \n",
            "          O\n",
            "         /|         / \n",
            "Do You want to fight the guards \n",
            " =Hide\n",
            "You have entered next level\n",
            "              !\n",
            "             lll\n",
            "          ///              |||       |\n",
            " P_______|[][][][][]_______P\n",
            "++++++++=o0@%@%@%o|||++++++++\n",
            "|l l l ll [] [] []| l l l l l\n",
            "|_______| []=== []| |_______|\n",
            "        |__|| ||___/\n",
            "          \n",
            "          O\n",
            "         /|         /     _    _  \n",
            "  | |  | |\n",
            "  | |  | |\n",
            "\n",
            "do you want call your army,types yes or no\n",
            " =yes\n",
            "You have entered the next level\n",
            "the king has lost the battle , do you want to kill him\n",
            " =yes\n",
            "            ___           ___\n",
            "           /   \\         /             |  O  |       |  O  |\n",
            "          | /|\\ |       | /|\\ |\n",
            "          | / \\ |       | / \\ |\n",
            "          |_____|       |_____|\n",
            " \n",
            "\n",
            "You have won the game\n",
            "     ___            \n",
            "      /   \\          /        |  O  |        |  O  |\n",
            "     | /|\\ |        | /|\\ |\n",
            "     | / \\ |        | / \\ |\n",
            "     |_____|        |_____|\n",
            "\n",
            "           O\n",
            "          /|\\ king of hell\n",
            "          / \n"
          ]
        }
      ]
    }
  ]
}
