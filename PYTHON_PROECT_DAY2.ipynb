{
  "nbformat": 4,
  "nbformat_minor": 0,
  "metadata": {
    "colab": {
      "provenance": [],
      "authorship_tag": "ABX9TyObhEhFk0dT4ABd34K4Dl7O",
      "include_colab_link": true
    },
    "kernelspec": {
      "name": "python3",
      "display_name": "Python 3"
    },
    "language_info": {
      "name": "python"
    }
  },
  "cells": [
    {
      "cell_type": "markdown",
      "metadata": {
        "id": "view-in-github",
        "colab_type": "text"
      },
      "source": [
        "<a href=\"https://colab.research.google.com/github/divyansh212/100-Days-of-python-coding/blob/main/PYTHON_PROECT_DAY2.ipynb\" target=\"_parent\"><img src=\"https://colab.research.google.com/assets/colab-badge.svg\" alt=\"Open In Colab\"/></a>"
      ]
    },
    {
      "cell_type": "markdown",
      "source": [
        "concept of flooring and round-off:\n",
        "\n",
        "for round off use the round function\n",
        "\n",
        "eg BMI = 30.7876497\n",
        "\n",
        "print(round(BMI))\n",
        "\n",
        "result=31\n",
        "\n",
        "for flooring  use the int function or //\n",
        "\n",
        "eg BMI=30.7876497\n",
        "\n",
        "PRINT(int(BMI)) or print (weight//height**2)\n",
        "\n",
        "result= 30"
      ],
      "metadata": {
        "id": "VDhUXuvQj9Wq"
      }
    },
    {
      "cell_type": "code",
      "execution_count": null,
      "metadata": {
        "colab": {
          "base_uri": "https://localhost:8080/"
        },
        "id": "KEA-2bWjXBuH",
        "outputId": "41039e3b-20d4-485b-f89c-ec1206f3974c"
      },
      "outputs": [
        {
          "output_type": "stream",
          "name": "stdout",
          "text": [
            "Hello to the bmi calculator!!!!\n",
            "please enter your height in metrs\n",
            " =  1.96\n",
            "please enter your weight in kg\n",
            " =  65\n",
            "your bmi is 16.92003331945023\n",
            "you are underweight\n"
          ]
        }
      ],
      "source": [
        "print(\"Hello to the bmi calculator!!!!\" )\n",
        "Height=float(input(\"please enter your height in metrs\\n =  \"))\n",
        "weight=float(input(\"please enter your weight in kg\\n =  \"))\n",
        "bmi=weight/Height**2\n",
        "print(f\"your bmi is {bmi}\")\n",
        "if 18.0<=bmi<=25.0:\n",
        "   print (\"you are fit \")\n",
        "elif bmi<18.0:\n",
        "   print(\"you are underweight\")\n",
        "elif bmi>25.0:\n",
        "   print(\"you are overweight\")\n",
        "else:\n",
        "   print(\"something went wrong\")"
      ]
    },
    {
      "cell_type": "code",
      "source": [
        "score =99\n",
        "height=1.88\n",
        "nature=\"aggresive \"\n",
        "print (f\"your score is {score}\\nyour height is{height}\\nand your nature is {nature}\")"
      ],
      "metadata": {
        "colab": {
          "base_uri": "https://localhost:8080/"
        },
        "id": "C5GibUPzZS-R",
        "outputId": "5d7e3dac-cad1-49df-a4fd-1487fe3e2227"
      },
      "execution_count": null,
      "outputs": [
        {
          "output_type": "stream",
          "name": "stdout",
          "text": [
            "your score is 99\n",
            "your height is1.88\n",
            "and your nature is aggresive \n"
          ]
        }
      ]
    },
    {
      "cell_type": "code",
      "source": [
        "print(\"Welcome the python tip calculator!!!\")\n",
        "amt=float(input(\"enter the issued amount\\n =$\"))\n",
        "tip=int(input(\"enter the tip percentage\\n =\"))\n",
        "people=int(input(\"enter the number of people\\n=\"))\n",
        "amt_to_be_paid=round((amt+(amt*tip/100))/people,2)\n",
        "print (f\"the amount per person has to pay  is {amt_to_be_paid}\")"
      ],
      "metadata": {
        "colab": {
          "base_uri": "https://localhost:8080/"
        },
        "id": "2ZT_yxFdeLxl",
        "outputId": "0eab5ed5-ccea-4ede-ed7a-9adaec8c479d"
      },
      "execution_count": null,
      "outputs": [
        {
          "output_type": "stream",
          "name": "stdout",
          "text": [
            "Welcome the python tip calculator!!!\n",
            "enter the issued amount\n",
            " =$130.898\n",
            "enter the tip percentage\n",
            " =50\n",
            "enter the number of people\n",
            "=30\n",
            "the amount per person has to pay  is 6.54\n"
          ]
        }
      ]
    },
    {
      "cell_type": "markdown",
      "source": [
        "day 2"
      ],
      "metadata": {
        "id": "mnc8sYwEhwiD"
      }
    }
  ]
}