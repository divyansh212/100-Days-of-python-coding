{
  "nbformat": 4,
  "nbformat_minor": 0,
  "metadata": {
    "colab": {
      "provenance": [],
      "authorship_tag": "ABX9TyO0gf267pxor+ly3EZ9wPKG",
      "include_colab_link": true
    },
    "kernelspec": {
      "name": "python3",
      "display_name": "Python 3"
    },
    "language_info": {
      "name": "python"
    }
  },
  "cells": [
    {
      "cell_type": "markdown",
      "metadata": {
        "id": "view-in-github",
        "colab_type": "text"
      },
      "source": [
        "<a href=\"https://colab.research.google.com/github/divyansh212/100-Days-of-python-coding/blob/main/14pythonprogramming(Beginner_level_end).ipynb\" target=\"_parent\"><img src=\"https://colab.research.google.com/assets/colab-badge.svg\" alt=\"Open In Colab\"/></a>"
      ]
    },
    {
      "cell_type": "code",
      "source": [],
      "metadata": {
        "id": "CJdnm7O2Ou7C"
      },
      "execution_count": null,
      "outputs": []
    },
    {
      "cell_type": "code",
      "execution_count": 43,
      "metadata": {
        "colab": {
          "base_uri": "https://localhost:8080/"
        },
        "id": "RuuWrgoA-MDk",
        "outputId": "b4abe523-46df-4ee3-a4d2-c127b0def1c3"
      },
      "outputs": [
        {
          "output_type": "stream",
          "name": "stdout",
          "text": [
            "Khloé Kardashian Media Personality from USA\n",
            "Dwayne Johnson Actor, Former Wrestler from USA\n",
            "Who has more followers A or B b\n",
            "You are right and your score is 1\n",
            "Dwayne Johnson Actor, Former Wrestler from USA\n",
            "Beyoncé Singer, Actress from USA\n",
            "Who has more followers A or B a\n",
            "You are right and your score is 2\n",
            "Beyoncé Singer, Actress from USA\n",
            "Ariana Grande Singer, Actress from USA\n",
            "Who has more followers A or B b\n",
            "You are right and your score is 3\n",
            "Ariana Grande Singer, Actress from USA\n",
            "Cristiano Ronaldo Footballer from Portugal\n",
            "Who has more followers A or B b\n",
            "You are right and your score is 4\n",
            "Cristiano Ronaldo Footballer from Portugal\n",
            "Kylie Jenner Media Personality, Businesswoman from USA\n",
            "Who has more followers A or B a\n",
            "You are right and your score is 5\n",
            "Kylie Jenner Media Personality, Businesswoman from USA\n",
            "Kim Kardashian Media Personality, Businesswoman from USA\n",
            "Who has more followers A or B b\n",
            "sorry you are wrong,Game over. You score is 5\n"
          ]
        }
      ],
      "source": [
        "import random\n",
        "celeb = [\n",
        "    {\"name\": \"Cristiano Ronaldo\", \"job\": \"Footballer\", \"followers\": 647, \"origin\": \"from Portugal\"},\n",
        "    {\"name\": \"Lionel Messi\", \"job\": \"Footballer\", \"followers\": 504, \"origin\": \"from Argentina\"},\n",
        "    {\"name\": \"Selena Gomez\", \"job\": \"Singer, Actress\", \"followers\": 423, \"origin\": \"from USA\"},\n",
        "    {\"name\": \"Kylie Jenner\", \"job\": \"Media Personality, Businesswoman\", \"followers\": 395, \"origin\": \"from USA\"},\n",
        "    {\"name\": \"Dwayne Johnson\", \"job\": \"Actor, Former Wrestler\", \"followers\": 394, \"origin\": \"from USA\"},\n",
        "    {\"name\": \"Ariana Grande\", \"job\": \"Singer, Actress\", \"followers\": 376, \"origin\": \"from USA\"},\n",
        "    {\"name\": \"Kim Kardashian\", \"job\": \"Media Personality, Businesswoman\", \"followers\": 359, \"origin\": \"from USA\"},\n",
        "    {\"name\": \"Beyoncé\", \"job\": \"Singer, Actress\", \"followers\": 313, \"origin\": \"from USA\"},\n",
        "    {\"name\": \"Khloé Kardashian\", \"job\": \"Media Personality\", \"followers\": 305, \"origin\": \"from USA\"},\n",
        "    {\"name\": \"Justin Bieber\", \"job\": \"Singer\", \"followers\": 295, \"origin\": \"from Canada\"}\n",
        "]\n",
        "score=0\n",
        "Game_over=False\n",
        "def winner(A,B):\n",
        "  global score,Game_over\n",
        "  print(A[\"name\"],A[\"job\"],A[\"origin\"])\n",
        "  print(B[\"name\"],B[\"job\"],B[\"origin\"])\n",
        "  choice=input(\"Who has more followers A or B \").lower()\n",
        "  if choice==\"a\" and A[\"followers\"]>B[\"followers\"]:\n",
        "    score +=1\n",
        "    print(f\"You are right and your score is {score}\")\n",
        "    return B\n",
        "  elif choice==\"b\" and B[\"followers\"]>A[\"followers\"]:\n",
        "    score+=1\n",
        "    print(f\"You are right and your score is {score}\")\n",
        "    return B\n",
        "  else:\n",
        "    print(f\"sorry you are wrong,Game over. You score is {score}\")\n",
        "    Game_over=True\n",
        "    return None\n",
        "A1,B1=random.sample(celeb,2)\n",
        "celeb.remove(A1)\n",
        "celeb.remove(B1)\n",
        "A=winner(A1,B1)\n",
        "while len(celeb)>1 and not Game_over:\n",
        "  if A is None:\n",
        "    Game_over=True\n",
        "    break\n",
        "  B=random.choice([c for c in celeb if c != A])\n",
        "  celeb.remove(B)\n",
        "  A=winner(A,B)\n",
        "\n",
        "\n",
        "\n",
        "\n"
      ]
    },
    {
      "cell_type": "code",
      "source": [
        "import random\n",
        "\n",
        "# List of celebrities\n",
        "celeb = [\n",
        "    {\"name\": \"Cristiano Ronaldo\", \"job\": \"Footballer\", \"followers\": 647, \"origin\": \"from Portugal\"},\n",
        "    {\"name\": \"Lionel Messi\", \"job\": \"Footballer\", \"followers\": 504, \"origin\": \"from Argentina\"},\n",
        "    {\"name\": \"Selena Gomez\", \"job\": \"Singer, Actress\", \"followers\": 423, \"origin\": \"from USA\"},\n",
        "    {\"name\": \"Kylie Jenner\", \"job\": \"Media Personality, Businesswoman\", \"followers\": 395, \"origin\": \"from USA\"},\n",
        "    {\"name\": \"Dwayne Johnson\", \"job\": \"Actor, Former Wrestler\", \"followers\": 394, \"origin\": \"from USA\"},\n",
        "    {\"name\": \"Ariana Grande\", \"job\": \"Singer, Actress\", \"followers\": 376, \"origin\": \"from USA\"},\n",
        "    {\"name\": \"Kim Kardashian\", \"job\": \"Media Personality, Businesswoman\", \"followers\": 359, \"origin\": \"from USA\"},\n",
        "    {\"name\": \"Beyoncé\", \"job\": \"Singer, Actress\", \"followers\": 313, \"origin\": \"from USA\"},\n",
        "    {\"name\": \"Khloé Kardashian\", \"job\": \"Media Personality\", \"followers\": 305, \"origin\": \"from USA\"},\n",
        "    {\"name\": \"Justin Bieber\", \"job\": \"Singer\", \"followers\": 295, \"origin\": \"from Canada\"}\n",
        "]\n",
        "\n",
        "score = 0\n",
        "Game_over = False\n",
        "\n",
        "def winner(A, B):\n",
        "    global score, Game_over\n",
        "    print(f\"\\nA: {A['name']} ({A['job']}, {A['origin']}) - {A['followers']}M followers\")\n",
        "    print(f\"B: {B['name']} ({B['job']}, {B['origin']}) - ??? followers\")\n",
        "\n",
        "    choice = input(\"Who has more followers? Type 'A' or 'B': \").lower()\n",
        "\n",
        "    if (choice == \"a\" and A[\"followers\"] > B[\"followers\"]) or (choice == \"b\" and B[\"followers\"] > A[\"followers\"]):\n",
        "        score += 1\n",
        "        print(f\"✅ Correct! Your score is {score}\")\n",
        "        return B  # B becomes the new A for the next round\n",
        "    else:\n",
        "        print(f\"❌ Wrong! Game over. Your final score is {score}\")\n",
        "        Game_over = True\n",
        "        return None  # End the game\n",
        "\n",
        "# Game loop\n",
        "while len(celeb) > 1 and not Game_over:  # Continue until there are less than 2 celebs left\n",
        "    A1, B1 = random.sample(celeb, 2)\n",
        "    celeb.remove(A1)\n",
        "    celeb.remove(B1)\n",
        "\n",
        "    A = winner(A1, B1)  # B always becomes the new A after each correct guess\n",
        "\n",
        "    if A is None:  # If the player loses, stop the game\n",
        "        Game_over = True\n",
        "        break\n",
        "\n",
        "    # Select the next B randomly from the remaining celebrities\n",
        "    B = random.choice([c for c in celeb if c != A])\n",
        "    celeb.remove(B)\n",
        "\n",
        "    winner(A, B)  # Continue the game with the new B\n"
      ],
      "metadata": {
        "colab": {
          "base_uri": "https://localhost:8080/"
        },
        "id": "2WOa-xzkdZlM",
        "outputId": "25f95caa-2132-4748-f9bc-bc0c149cedec"
      },
      "execution_count": 41,
      "outputs": [
        {
          "output_type": "stream",
          "name": "stdout",
          "text": [
            "\n",
            "A: Khloé Kardashian (Media Personality, from USA) - 305M followers\n",
            "B: Beyoncé (Singer, Actress, from USA) - ??? followers\n",
            "Who has more followers? Type 'A' or 'B': b\n",
            "✅ Correct! Your score is 1\n",
            "\n",
            "A: Beyoncé (Singer, Actress, from USA) - 313M followers\n",
            "B: Ariana Grande (Singer, Actress, from USA) - ??? followers\n",
            "Who has more followers? Type 'A' or 'B': b\n",
            "✅ Correct! Your score is 2\n",
            "\n",
            "A: Cristiano Ronaldo (Footballer, from Portugal) - 647M followers\n",
            "B: Kylie Jenner (Media Personality, Businesswoman, from USA) - ??? followers\n",
            "Who has more followers? Type 'A' or 'B': b\n",
            "❌ Wrong! Game over. Your final score is 2\n"
          ]
        }
      ]
    },
    {
      "cell_type": "code",
      "source": [],
      "metadata": {
        "id": "nwEap7nddep8"
      },
      "execution_count": null,
      "outputs": []
    }
  ]
}