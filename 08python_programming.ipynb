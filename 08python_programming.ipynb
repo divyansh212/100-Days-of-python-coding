{
  "nbformat": 4,
  "nbformat_minor": 0,
  "metadata": {
    "colab": {
      "provenance": [],
      "authorship_tag": "ABX9TyNCZt1ItZACAyoHXphJs78Q",
      "include_colab_link": true
    },
    "kernelspec": {
      "name": "python3",
      "display_name": "Python 3"
    },
    "language_info": {
      "name": "python"
    }
  },
  "cells": [
    {
      "cell_type": "markdown",
      "metadata": {
        "id": "view-in-github",
        "colab_type": "text"
      },
      "source": [
        "<a href=\"https://colab.research.google.com/github/divyansh212/100-Days-of-python-coding/blob/main/08python_programming.ipynb\" target=\"_parent\"><img src=\"https://colab.research.google.com/assets/colab-badge.svg\" alt=\"Open In Colab\"/></a>"
      ]
    },
    {
      "cell_type": "code",
      "execution_count": 1,
      "metadata": {
        "colab": {
          "base_uri": "https://localhost:8080/"
        },
        "id": "qNtb0dE7otR9",
        "outputId": "67ebc5d7-cd81-43cd-ab0d-4c3039404faf"
      },
      "outputs": [
        {
          "output_type": "stream",
          "name": "stdout",
          "text": [
            "hello\n",
            "new\n",
            "nigga\n"
          ]
        }
      ],
      "source": [
        "def greet():\n",
        "  print(\"hello\")\n",
        "  print(\"new\")\n",
        "  print(\"nigga\")\n",
        "greet()"
      ]
    },
    {
      "cell_type": "code",
      "source": [
        "def life_in_weeks(age):\n",
        "    years_left=90-age\n",
        "    weeks_left=years_left*52\n",
        "    print(f\"You have {weeks_left} weeks left.\")\n",
        "life_in_weeks(20)"
      ],
      "metadata": {
        "colab": {
          "base_uri": "https://localhost:8080/"
        },
        "id": "T2TdklKDvGuZ",
        "outputId": "d14bb712-0df9-4db3-dbb0-88251a4310a5"
      },
      "execution_count": 4,
      "outputs": [
        {
          "output_type": "stream",
          "name": "stdout",
          "text": [
            "You have 3640 weeks left.\n"
          ]
        }
      ]
    },
    {
      "cell_type": "code",
      "source": [
        "def greet_with_name(name):\n",
        "    print(\"hello\",name)\n",
        "    print(\"lykyk\",name)\n",
        "    print(\"black nigga\",name)\n",
        "greet_with_name(\"jack sapparow\")\n",
        "#in the above given function [**********name is the parameter*********] whereas [************\"jack sapparow \" is the argument******************]"
      ],
      "metadata": {
        "colab": {
          "base_uri": "https://localhost:8080/"
        },
        "id": "y8LD7MltrPI0",
        "outputId": "ac7e3c81-dd3d-481e-c92d-9cf6d22ac917"
      },
      "execution_count": 3,
      "outputs": [
        {
          "output_type": "stream",
          "name": "stdout",
          "text": [
            "hello jack sapparow\n",
            "lykyk jack sapparow\n",
            "black nigga jack sapparow\n"
          ]
        }
      ]
    },
    {
      "cell_type": "code",
      "source": [
        "def greet_with(name,location):\n",
        "  print(f\"hello {name}\")\n",
        "  print(f\"what is it like in {location}\")\n",
        "greet_with(\"jugga\",\"New Delhi\")#positional argument (by default due positon of paramenter and argument [name=jugga] and [location = New Delhi])\n",
        "greet_with(location=\"New York\", name=\"Brad Pitt\")#Here we have used keyword agrument hence despite different position of parameter and argument\n",
        "#we have equated the values thus defying the positoning\n"
      ],
      "metadata": {
        "colab": {
          "base_uri": "https://localhost:8080/"
        },
        "id": "7hFzrtPIvLed",
        "outputId": "24b9813f-c3f1-478a-f690-a7d98e4b2186"
      },
      "execution_count": 14,
      "outputs": [
        {
          "output_type": "stream",
          "name": "stdout",
          "text": [
            "hello jugga\n",
            "what is it like in New Delhi\n",
            "hello Brad Pitt\n",
            "what is it like in New York\n"
          ]
        }
      ]
    },
    {
      "cell_type": "code",
      "source": [
        "print('''\n",
        " ,adPPYba, ,adPPYYba,  ,adPPYba, ,adPPYba, ,adPPYYba, 8b,dPPYba,\n",
        "a8\"     \"\" \"\"     'Y8 a8P_____88 I8[    \"\" \"\"     'Y8 88P'   \"Y8\n",
        "8b         ,adPPPPP88 8PP\"\"\"\"\"\"\"  '\"Y8ba,  ,adPPPPP88 88\n",
        "\"8a,   ,aa 88,    ,88 \"8b,   ,aa aa    ]8I 88,    ,88 88\n",
        " '\"Ybbd8\"' '\"8bbdP\"Y8  '\"Ybbd8\"' '\"YbbdP\"' '\"8bbdP\"Y8 88\n",
        "            88             88\n",
        "           \"\"             88\n",
        "                          88\n",
        " ,adPPYba, 88 8b,dPPYba,  88,dPPYba,   ,adPPYba, 8b,dPPYba,\n",
        "a8\"     \"\" 88 88P'    \"8a 88P'    \"8a a8P_____88 88P'   \"Y8\n",
        "8b         88 88       d8 88       88 8PP\"\"\"\"\"\"\" 88\n",
        "\"8a,   ,aa 88 88b,   ,a8\" 88       88 \"8b,   ,aa 88\n",
        " '\"Ybbd8\"' 88 88'YbbdP\"'  88       88  '\"Ybbd8\"' 88\n",
        "              88\n",
        "              88           ''')\n",
        "print(\"welcome to caesar cipher\")\n",
        "alphabets= ['a', 'b', 'c', 'd', 'e', 'f', 'g', 'h', 'i', 'j', 'k', 'l', 'm','n', 'o', 'p', 'q', 'r', 's', 't', 'u', 'v', 'w', 'x', 'y', 'z']\n",
        "ask=input(\"do you want to encrypt(encode) or decrypt(decode)\\n => \").lower()\n",
        "text=str(input(\"Enter the text you want to encrypt or decrypt\\n => \")).lower()\n",
        "shifts=int(input(\"Enter the number of shifts you want\\n => \"))\n",
        "indexes=[]\n",
        "def encrypt(text,shifts):\n",
        "  a=list(text)\n",
        "  for i in text :\n",
        "    if i in alphabets:\n",
        "      z=alphabets.index(i)\n",
        "      indexes.append(alphabets[(z+shifts)%26])\n",
        "    else:\n",
        "      indexes.append(i)\n",
        "  print(\"Your encoded message is \"+\"\".join(indexes))\n",
        "  y=\"\".join(indexes)\n",
        "if ask==\"encode\":\n",
        "   encrypt(text,shifts)\n",
        "def decrypt(text,shifts):\n",
        "  classly=[]\n",
        "  a=list(text)\n",
        "  for i in text :\n",
        "    if i in alphabets:\n",
        "      x=alphabets.index(i)\n",
        "      classly.append(alphabets[(x-shifts)%26])\n",
        "    else:\n",
        "      classly.append(i)\n",
        "  print(\"Your decoded message is \"+\"\".join(classly))\n",
        "if ask==\"decode\":\n",
        "  decrypt(text,shifts)\n",
        "\n",
        "\n"
      ],
      "metadata": {
        "colab": {
          "base_uri": "https://localhost:8080/"
        },
        "id": "DJgkhBhi-If2",
        "outputId": "8a80d6bb-1348-4623-b12f-bc7ddc7da5e0"
      },
      "execution_count": 8,
      "outputs": [
        {
          "output_type": "stream",
          "name": "stdout",
          "text": [
            "       \n",
            " ,adPPYba, ,adPPYYba,  ,adPPYba, ,adPPYba, ,adPPYYba, 8b,dPPYba,  \n",
            "a8\"     \"\" \"\"     'Y8 a8P_____88 I8[    \"\" \"\"     'Y8 88P'   \"Y8  \n",
            "8b         ,adPPPPP88 8PP\"\"\"\"\"\"\"  '\"Y8ba,  ,adPPPPP88 88          \n",
            "\"8a,   ,aa 88,    ,88 \"8b,   ,aa aa    ]8I 88,    ,88 88          \n",
            " '\"Ybbd8\"' '\"8bbdP\"Y8  '\"Ybbd8\"' '\"YbbdP\"' '\"8bbdP\"Y8 88   \n",
            "            88             88                                 \n",
            "           \"\"             88                                 \n",
            "                          88                                 \n",
            " ,adPPYba, 88 8b,dPPYba,  88,dPPYba,   ,adPPYba, 8b,dPPYba,  \n",
            "a8\"     \"\" 88 88P'    \"8a 88P'    \"8a a8P_____88 88P'   \"Y8  \n",
            "8b         88 88       d8 88       88 8PP\"\"\"\"\"\"\" 88          \n",
            "\"8a,   ,aa 88 88b,   ,a8\" 88       88 \"8b,   ,aa 88          \n",
            " '\"Ybbd8\"' 88 88'YbbdP\"'  88       88  '\"Ybbd8\"' 88          \n",
            "              88                                             \n",
            "              88           \n",
            "welcome to caesar cipher\n",
            "do you want to encrypt(encode) or decrypt(decode)\n",
            " => decode\n",
            "Enter the text you want to encrypt or decrypt\n",
            " => mowdoqwieu\n",
            "Enter the number of shifts you want\n",
            " => 3\n",
            "Your decoded message is jltalntfbr\n"
          ]
        }
      ]
    },
    {
      "cell_type": "code",
      "source": [
        "def decrypt(text,shifts):\n",
        "  classly=[]\n",
        "  a=list(text)\n",
        "  for i in text :\n",
        "    if i in alphabets:\n",
        "      x=alphabets.index(i)\n",
        "      classly.append(alphabets[x-shifts])\n",
        "  print(\"Your decoded message is \"+\"\".join(classly))\n",
        "decrypt(text,shifts)\n",
        "\n",
        "\n",
        "\n"
      ],
      "metadata": {
        "colab": {
          "base_uri": "https://localhost:8080/"
        },
        "id": "lm-Bd8EWfRgc",
        "outputId": "0ef9545e-d812-4932-a616-df775c89527f"
      },
      "execution_count": 23,
      "outputs": [
        {
          "output_type": "stream",
          "name": "stdout",
          "text": [
            "Your decoded message is q\n"
          ]
        }
      ]
    },
    {
      "cell_type": "code",
      "source": [
        "alphabets= ['a', 'b', 'c', 'd', 'e', 'f', 'g', 'h', 'i', 'j', 'k', 'l', 'm','n', 'o', 'p', 'q', 'r', 's', 't', 'u', 'v', 'w', 'x', 'y', 'z']\n",
        "#ask=input(\"do you want to encrypt(encode) or decrypt(decode)\\n => \").lower()\n",
        "text=str(input(\"Enter the text you want to encrypt or decrypt\\n => \")).lower()\n",
        "shifts=int(input(\"Enter the number of shifts you want\\n => \"))\n",
        "indexes=[]\n",
        "def encrypt(text,shifts):\n",
        "  a=list(text)\n",
        "  for i in text :\n",
        "    if i in alphabets:\n",
        "      x=alphabets.index(i)\n",
        "      indexes.append(alphabets[x+shifts])\n",
        "  print(\"\".join(indexes))\n",
        "encrypt(text,shifts)\n",
        "\n",
        "\n"
      ],
      "metadata": {
        "colab": {
          "base_uri": "https://localhost:8080/"
        },
        "id": "xfG0Z0KiPCd1",
        "outputId": "b734e244-1fc8-4466-8e81-a2b5e29a8c7d"
      },
      "execution_count": 17,
      "outputs": [
        {
          "output_type": "stream",
          "name": "stdout",
          "text": [
            "Enter the text you want to encrypt or decrypt\n",
            " => space\n",
            "Enter the number of shifts you want\n",
            " => 3\n",
            "vsdfh\n"
          ]
        }
      ]
    },
    {
      "cell_type": "code",
      "source": [
        "alphabets = ['a', 'b', 'c', 'd', 'e', 'f', 'g', 'h', 'i', 'j', 'k', 'l', 'm', 'n', 'o', 'p', 'q', 'r', 's', 't', 'u', 'v', 'w', 'x', 'y', 'z']\n",
        "\n",
        "def encrypt(text, shifts):\n",
        "    indexes = []  # Reset the indexes list\n",
        "    for char in text:\n",
        "        if char in alphabets:\n",
        "            # Find the index of the character in the alphabet\n",
        "            x = alphabets.index(char)\n",
        "            # Shift it and wrap around using modulo\n",
        "            new_index = (x + shifts) % 26\n",
        "            indexes.append(alphabets[new_index])\n",
        "        else:\n",
        "            # If the character is not in the alphabet (like spaces, punctuation), keep it as is\n",
        "            indexes.append(char)\n",
        "\n",
        "    # Join the encrypted characters and return the result\n",
        "    return \"\".join(indexes)\n",
        "\n",
        "# Input\n",
        "text = str(input(\"Enter the text you want to encrypt\\n => \")).lower()\n",
        "shifts = int(input(\"Enter the number of shifts you want\\n => \"))\n",
        "\n",
        "# Encrypt and print the result\n",
        "result = encrypt(text, shifts)\n",
        "print(f\"Encrypted text: {result}\")\n"
      ],
      "metadata": {
        "colab": {
          "base_uri": "https://localhost:8080/"
        },
        "id": "sS9Lue_OZDrx",
        "outputId": "6154e0f5-cef9-40ef-efac-a3c6ac77864a"
      },
      "execution_count": 18,
      "outputs": [
        {
          "output_type": "stream",
          "name": "stdout",
          "text": [
            "Enter the text you want to encrypt\n",
            " => space\n",
            "Enter the number of shifts you want\n",
            " => 3\n",
            "Encrypted text: vsdfh\n"
          ]
        }
      ]
    },
    {
      "cell_type": "code",
      "source": [
        "print('''\n",
        " ,adPPYba, ,adPPYYba,  ,adPPYba, ,adPPYba, ,adPPYYba, 8b,dPPYba,\n",
        "a8\"     \"\" \"\"     'Y8 a8P_____88 I8[    \"\" \"\"     'Y8 88P'   \"Y8\n",
        "8b         ,adPPPPP88 8PP\"\"\"\"\"\"\"  '\"Y8ba,  ,adPPPPP88 88\n",
        "\"8a,   ,aa 88,    ,88 \"8b,   ,aa aa    ]8I 88,    ,88 88\n",
        " '\"Ybbd8\"' '\"8bbdP\"Y8  '\"Ybbd8\"' '\"YbbdP\"' '\"8bbdP\"Y8 88\n",
        "            88             88\n",
        "           \"\"             88\n",
        "                          88\n",
        " ,adPPYba, 88 8b,dPPYba,  88,dPPYba,   ,adPPYba, 8b,dPPYba,\n",
        "a8\"     \"\" 88 88P'    \"8a 88P'    \"8a a8P_____88 88P'   \"Y8\n",
        "8b         88 88       d8 88       88 8PP\"\"\"\"\"\"\" 88\n",
        "\"8a,   ,aa 88 88b,   ,a8\" 88       88 \"8b,   ,aa 88\n",
        " '\"Ybbd8\"' 88 88'YbbdP\"'  88       88  '\"Ybbd8\"' 88\n",
        "              88\n",
        "              88           ''')\n",
        "print(\"welcome to caesar cipher\")\n",
        "alphabets= ['a', 'b', 'c', 'd', 'e', 'f', 'g', 'h', 'i', 'j', 'k', 'l', 'm','n', 'o', 'p', 'q', 'r', 's', 't', 'u', 'v', 'w', 'x', 'y', 'z']\n",
        "ask=input(\"do you want to encrypt(encode) or decrypt(decode)\\n => \").lower()\n",
        "text=str(input(\"Enter the text you want to encrypt or decrypt\\n => \")).lower()\n",
        "shifts=int(input(\"Enter the number of shifts you want\\n => \"))\n",
        "indexes=[]\n",
        "def caesar(text,shifts):\n",
        "  a=list(text)\n",
        "  for i in text :\n",
        "    if i in alphabets:\n",
        "      x=alphabets.index(i)\n",
        "  if ask==\"decode\":\n",
        "    shifts*=-1\n",
        "  indexes.append(alphabets[(x+shifts)%26])\n",
        "  print(\"\".join(indexes))\n",
        "caesar(text,shifts)\n"
      ],
      "metadata": {
        "colab": {
          "base_uri": "https://localhost:8080/"
        },
        "id": "7DmOs9v63hrm",
        "outputId": "c3f732e4-793e-4bfa-cd8e-39d04ac5fd3c"
      },
      "execution_count": 20,
      "outputs": [
        {
          "output_type": "stream",
          "name": "stdout",
          "text": [
            "       \n",
            " ,adPPYba, ,adPPYYba,  ,adPPYba, ,adPPYba, ,adPPYYba, 8b,dPPYba,  \n",
            "a8\"     \"\" \"\"     'Y8 a8P_____88 I8[    \"\" \"\"     'Y8 88P'   \"Y8  \n",
            "8b         ,adPPPPP88 8PP\"\"\"\"\"\"\"  '\"Y8ba,  ,adPPPPP88 88          \n",
            "\"8a,   ,aa 88,    ,88 \"8b,   ,aa aa    ]8I 88,    ,88 88          \n",
            " '\"Ybbd8\"' '\"8bbdP\"Y8  '\"Ybbd8\"' '\"YbbdP\"' '\"8bbdP\"Y8 88   \n",
            "            88             88                                 \n",
            "           \"\"             88                                 \n",
            "                          88                                 \n",
            " ,adPPYba, 88 8b,dPPYba,  88,dPPYba,   ,adPPYba, 8b,dPPYba,  \n",
            "a8\"     \"\" 88 88P'    \"8a 88P'    \"8a a8P_____88 88P'   \"Y8  \n",
            "8b         88 88       d8 88       88 8PP\"\"\"\"\"\"\" 88          \n",
            "\"8a,   ,aa 88 88b,   ,a8\" 88       88 \"8b,   ,aa 88          \n",
            " '\"Ybbd8\"' 88 88'YbbdP\"'  88       88  '\"Ybbd8\"' 88          \n",
            "              88                                             \n",
            "              88           \n",
            "welcome to caesar cipher\n",
            "do you want to encrypt(encode) or decrypt(decode)\n",
            " => decode\n",
            "Enter the text you want to encrypt or decrypt\n",
            " => pxn\n",
            "Enter the number of shifts you want\n",
            " => 1\n",
            "m\n",
            "       \n",
            " ,adPPYba, ,adPPYYba,  ,adPPYba, ,adPPYba, ,adPPYYba, 8b,dPPYba,  \n",
            "a8\"     \"\" \"\"     'Y8 a8P_____88 I8[    \"\" \"\"     'Y8 88P'   \"Y8  \n",
            "8b         ,adPPPPP88 8PP\"\"\"\"\"\"\"  '\"Y8ba,  ,adPPPPP88 88          \n",
            "\"8a,   ,aa 88,    ,88 \"8b,   ,aa aa    ]8I 88,    ,88 88          \n",
            " '\"Ybbd8\"' '\"8bbdP\"Y8  '\"Ybbd8\"' '\"YbbdP\"' '\"8bbdP\"Y8 88   \n",
            "            88             88                                 \n",
            "           \"\"             88                                 \n",
            "                          88                                 \n",
            " ,adPPYba, 88 8b,dPPYba,  88,dPPYba,   ,adPPYba, 8b,dPPYba,  \n",
            "a8\"     \"\" 88 88P'    \"8a 88P'    \"8a a8P_____88 88P'   \"Y8  \n",
            "8b         88 88       d8 88       88 8PP\"\"\"\"\"\"\" 88          \n",
            "\"8a,   ,aa 88 88b,   ,a8\" 88       88 \"8b,   ,aa 88          \n",
            " '\"Ybbd8\"' 88 88'YbbdP\"'  88       88  '\"Ybbd8\"' 88          \n",
            "              88                                             \n",
            "              88           \n",
            "welcome to caesar cipher\n"
          ]
        }
      ]
    },
    {
      "cell_type": "code",
      "source": [
        "print(\"welcome to caesar cipher\")\n",
        "alphabets= ['a', 'b', 'c', 'd', 'e', 'f', 'g', 'h', 'i', 'j', 'k', 'l', 'm','n', 'o', 'p', 'q', 'r', 's', 't', 'u', 'v', 'w', 'x', 'y', 'z']\n",
        "ask=input(\"do you want to encrypt(encode) or decrypt(decode)\\n => \").lower()\n",
        "text=str(input(\"Enter the text you want to encrypt or decrypt\\n => \")).lower()\n",
        "shifts=int(input(\"Enter the number of shifts you want\\n => \"))\n",
        "indexes=[]\n",
        "def encrypt(text,shifts):\n",
        "  a=list(text)\n",
        "  for i in text :\n",
        "    if i in alphabets:\n",
        "      z=alphabets.index(i)\n",
        "      indexes.append(alphabets[(z+shifts)%26])\n",
        "    else:\n",
        "      indexes.append(i)\n",
        "  print(\"Your encoded message is \"+\"\".join(indexes))\n",
        "  y=\"\".join(indexes)\n",
        "def decrypt(text,shifts):\n",
        "  classly=[]\n",
        "  a=list(text)\n",
        "  for i in text :\n",
        "    if i in alphabets:\n",
        "      x=alphabets.index(i)\n",
        "      classly.append(alphabets[(x-shifts)%26])\n",
        "    else:\n",
        "      classly.append(i)\n",
        "  print(\"Your decoded message is \"+\"\".join(classly))\n",
        "should_continue=True\n",
        "while should_continue:\n",
        "  if ask==\"encode\":\n",
        "    encrypt(text,shifts)\n",
        "  elif ask== \"decode\":\n",
        "    decrypt(text,shifts)\n",
        "  ask_again=input(\"Do You Wish to conitnue encode or decode\\n => \").lower()\n",
        "  if ask_again==\"no\":\n",
        "    break"
      ],
      "metadata": {
        "id": "VpRBADxeCIZm"
      },
      "execution_count": null,
      "outputs": []
    }
  ]
}