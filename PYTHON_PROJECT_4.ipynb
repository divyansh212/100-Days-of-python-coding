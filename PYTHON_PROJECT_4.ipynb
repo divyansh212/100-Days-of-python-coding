{
  "nbformat": 4,
  "nbformat_minor": 0,
  "metadata": {
    "colab": {
      "provenance": [],
      "authorship_tag": "ABX9TyMfEQHDmQ6sypS/hTj4sPwj",
      "include_colab_link": true
    },
    "kernelspec": {
      "name": "python3",
      "display_name": "Python 3"
    },
    "language_info": {
      "name": "python"
    }
  },
  "cells": [
    {
      "cell_type": "markdown",
      "metadata": {
        "id": "view-in-github",
        "colab_type": "text"
      },
      "source": [
        "<a href=\"https://colab.research.google.com/github/divyansh212/100-Days-of-python-coding/blob/main/PYTHON_PROJECT_4.ipynb\" target=\"_parent\"><img src=\"https://colab.research.google.com/assets/colab-badge.svg\" alt=\"Open In Colab\"/></a>"
      ]
    },
    {
      "cell_type": "code",
      "source": [
        "import random\n",
        "b=random.randint(1,2)\n",
        "print(b)\n",
        "if b==1:\n",
        "    print(\"heads\")\n",
        "elif b==2:\n",
        "    print(\"tail\")\n"
      ],
      "metadata": {
        "colab": {
          "base_uri": "https://localhost:8080/"
        },
        "id": "BmFTLrSp3MlB",
        "outputId": "17a6bf6e-358a-4c8c-a9d0-2497d9548d22"
      },
      "execution_count": 15,
      "outputs": [
        {
          "output_type": "stream",
          "name": "stdout",
          "text": [
            "1\n",
            "heads\n"
          ]
        }
      ]
    },
    {
      "cell_type": "code",
      "source": [
        "import random\n",
        "list=[\"Batman\",\"Ironman\",\"Billy Butcher\",\"Superman\",\"Captain America\",\"Homelander\"]\n",
        "a=random.choice(list)\n",
        "b=random.randint(0,5)\n",
        "print(f\"The final bill will be paid by {a}\")\n",
        "print(f\"The final bill will be paid by {list[b]}\")"
      ],
      "metadata": {
        "colab": {
          "base_uri": "https://localhost:8080/"
        },
        "id": "oOHMrzDH-Ii3",
        "outputId": "1d53386b-0de7-4f9d-be04-ecd4bafae93c"
      },
      "execution_count": 48,
      "outputs": [
        {
          "output_type": "stream",
          "name": "stdout",
          "text": [
            "The final bill will be paid by Superman\n",
            "The final bill will be paid by Billy Butcher\n"
          ]
        }
      ]
    },
    {
      "cell_type": "code",
      "source": [
        "import random\n",
        "rock=('''\n",
        "                                     /\\| | | |\n",
        "                                     / /|_|_|_|\n",
        "\n",
        "                                      \\_______/''')\n",
        "scissors=(''' ,/'\n",
        "  (_).  ,/'\n",
        "   _  ::\n",
        "  (_)'  `\\.\n",
        "           `\\.''')\n",
        "paper=(''' __________\n",
        "         |DAILY NEWS|\n",
        "         |&&& ======|\n",
        "         |=== ======|\n",
        "         |=== == %%$|\n",
        "         |[_] ======|\n",
        "         |=== ===!##|\n",
        " ejm97   |__________|''')\n",
        "A=int(input(\"What do you choose? Type 1 for Rock, 2 for Paper or 3 for Scissors.\\n = \"))\n",
        "if A==1:\n",
        "    print(f\"You choose {rock}\")\n",
        "elif A==2:\n",
        "    print(f\"You choose {paper}\")\n",
        "elif A==3:\n",
        "    print(f\"You choose {scissors}\")\n",
        "B=random.randint(1,3)\n",
        "if B==1:\n",
        "    print(f\"The computer choose {rock}\")\n",
        "elif B==2:\n",
        "    print(f\"The computer choose {paper}\")\n",
        "elif B==3:\n",
        "    print(f\"The computer choose {scissors}\")\n",
        "if A==1 and B==3:\n",
        "    print(\"You win\")\n",
        "elif A==3 and B==2:\n",
        "    print(\"You win\")\n",
        "elif A==2 and B==1:\n",
        "    print(\"You win\")\n",
        "elif A==B:\n",
        "    print(\"Draw\")\n",
        "else:\n",
        "    print(\"You lose\")"
      ],
      "metadata": {
        "colab": {
          "base_uri": "https://localhost:8080/"
        },
        "id": "T-IIA6TfDUdV",
        "outputId": "cef7ee0d-eec9-4c67-a936-f89616b5786b"
      },
      "execution_count": 12,
      "outputs": [
        {
          "output_type": "stream",
          "name": "stdout",
          "text": [
            "What do you choose? Type 1 for Rock, 2 for Paper or 3 for Scissors.\n",
            " = 1\n",
            "You choose   \n",
            "                                     /\\| | | |\n",
            "                                     / /|_|_|_|\n",
            "                                      \n",
            "                                      \\_______/\n",
            "The computer choose  ,/'\n",
            "  (_).  ,/'\n",
            "   _  ::\n",
            "  (_)'  `\\.\n",
            "           `\\.\n",
            "You win\n"
          ]
        }
      ]
    },
    {
      "cell_type": "markdown",
      "source": [
        "day 4\n"
      ],
      "metadata": {
        "id": "sv2n4JVNYBFk"
      }
    }
  ]
}