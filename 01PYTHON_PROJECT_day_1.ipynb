{
  "nbformat": 4,
  "nbformat_minor": 0,
  "metadata": {
    "colab": {
      "provenance": [],
      "toc_visible": true,
      "authorship_tag": "ABX9TyOGFJSHHP/RhI8PFkAAPH8Y",
      "include_colab_link": true
    },
    "kernelspec": {
      "name": "python3",
      "display_name": "Python 3"
    },
    "language_info": {
      "name": "python"
    }
  },
  "cells": [
    {
      "cell_type": "markdown",
      "metadata": {
        "id": "view-in-github",
        "colab_type": "text"
      },
      "source": [
        "<a href=\"https://colab.research.google.com/github/divyansh212/100-Days-of-python-coding/blob/main/PYTHON_PROJECT_day_1.ipynb\" target=\"_parent\"><img src=\"https://colab.research.google.com/assets/colab-badge.svg\" alt=\"Open In Colab\"/></a>"
      ]
    },
    {
      "cell_type": "code",
      "execution_count": 3,
      "metadata": {
        "colab": {
          "base_uri": "https://localhost:8080/"
        },
        "id": "bf04bFPz_xFv",
        "outputId": "26e94559-8d13-49f1-bf88-0cea24ca10c9"
      },
      "outputs": [
        {
          "output_type": "stream",
          "name": "stdout",
          "text": [
            "hello world\n"
          ]
        }
      ],
      "source": [
        "print(\"hello world\")"
      ]
    },
    {
      "cell_type": "code",
      "source": [
        "print(\"Welocme to the brand name  generator !\")\n",
        "a=input (\"please enter the name of your fvrt animal \\n =\")\n",
        "\n",
        "b=input(\"please enter the name place you want tp visit \\n =\")\n",
        "print(\"your brand is going to be \"+ a+b)"
      ],
      "metadata": {
        "colab": {
          "base_uri": "https://localhost:8080/"
        },
        "id": "Gd150oR6CTJf",
        "outputId": "943d8662-2380-457a-8e88-6970b2e58d2e"
      },
      "execution_count": 7,
      "outputs": [
        {
          "output_type": "stream",
          "name": "stdout",
          "text": [
            "Welocme to the brand name  generator !\n",
            "please enter the name of your fvrt animal \n",
            " =lion\n",
            "please enter the name place you want tp visit \n",
            " =vactaican city\n",
            "your brand is going to be lionvactaican city\n"
          ]
        }
      ]
    },
    {
      "cell_type": "markdown",
      "source": [
        "day 1 of python code"
      ],
      "metadata": {
        "id": "O2aZGkefL7Ma"
      }
    }
  ]
}
