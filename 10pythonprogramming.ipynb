{
  "nbformat": 4,
  "nbformat_minor": 0,
  "metadata": {
    "colab": {
      "provenance": [],
      "authorship_tag": "ABX9TyOKuCgY3DiHBFCKH0GJkXAI",
      "include_colab_link": true
    },
    "kernelspec": {
      "name": "python3",
      "display_name": "Python 3"
    },
    "language_info": {
      "name": "python"
    }
  },
  "cells": [
    {
      "cell_type": "markdown",
      "metadata": {
        "id": "view-in-github",
        "colab_type": "text"
      },
      "source": [
        "<a href=\"https://colab.research.google.com/github/divyansh212/100-Days-of-python-coding/blob/main/10pythonprogramming.ipynb\" target=\"_parent\"><img src=\"https://colab.research.google.com/assets/colab-badge.svg\" alt=\"Open In Colab\"/></a>"
      ]
    },
    {
      "cell_type": "code",
      "execution_count": null,
      "metadata": {
        "colab": {
          "base_uri": "https://localhost:8080/"
        },
        "id": "8jIwcKegsTOC",
        "outputId": "5643f11e-a137-45ab-d14b-2f651125bb68"
      },
      "outputs": [
        {
          "output_type": "stream",
          "name": "stdout",
          "text": [
            "Enter the 1st nameking\n",
            "Enter last namekong\n",
            "King Kong\n"
          ]
        }
      ],
      "source": [
        "def format_name():\n",
        "  F_name=input(\"Enter the 1st name\").title()\n",
        "  L_name=input(\"Enter last name\").title()\n",
        "  print(F_name+\" \"+L_name)\n",
        "format_name()\n"
      ]
    },
    {
      "cell_type": "code",
      "source": [
        "def is_leap_year(year):\n",
        "    if year%4==0:\n",
        "        if year%100!=0:\n",
        "            print(\"leap\")\n",
        "        elif year%400==0:\n",
        "            print(\"leap\")\n",
        "        else:\n",
        "            print(\"not leap\")\n",
        "    else:\n",
        "        print(\"not leap\")\n",
        "is_leap_year(year)\n",
        "year=int(input(\"enter the year you want to check\\n\"))"
      ],
      "metadata": {
        "id": "qPVt1XjLtl-n"
      },
      "execution_count": null,
      "outputs": []
    },
    {
      "cell_type": "code",
      "source": [
        "print('''\n",
        " _____________________\n",
        "|  _________________  |\n",
        "| | Pythonista   0. | |  .----------------.  .----------------.  .----------------.  .----------------.\n",
        "| |_________________| | | .--------------. || .--------------. || .--------------. || .--------------. |\n",
        "|  ___ ___ ___   ___  | | |     ______   | || |      __      | || |   _____      | || |     ______   | |\n",
        "| | 7 | 8 | 9 | | + | | | |   .' ___  |  | || |     /  \\     | || |  |_   _|     | || |   .' ___  |  | |\n",
        "| |___|___|___| |___| | | |  / .'   \\_|  | || |    / /\\ \\    | || |    | |       | || |  / .'   \\_|  | |\n",
        "| | 4 | 5 | 6 | | - | | | |  | |         | || |   / ____ \\   | || |    | |   _   | || |  | |         | |\n",
        "| |___|___|___| |___| | | |  \\ '.___.'\\  | || | _/ /    \\ \\_ | || |   _| |__/ |  | || |  \\ '.___.'\\  | |\n",
        "| | 1 | 2 | 3 | | x | | | |   '._____.'  | || ||____|  |____|| || |  |________|  | || |   '._____.'  | |\n",
        "| |___|___|___| |___| | | |              | || |              | || |              | || |              | |\n",
        "| | . | 0 | = | | / | | | '--------------' || '--------------' || '--------------' || '--------------' |\n",
        "| |___|___|___| |___| |  '----------------'  '----------------'  '----------------'  '----------------'\n",
        "|_____________________|\n",
        "''')\n",
        "a=int(input(\"Enter the 1st number\\n => \"))\n",
        "b=int(input(\"Enter the 2nd number\\n => \"))\n",
        "c=input(\"Enter the operation(+,-,x,/) you would like to perform\\n => \").lower()\n",
        "def add(n1,n2):\n",
        "  return n1+n2\n",
        "def subtract(n1,n2):\n",
        "  return n1-n2\n",
        "def multiply(n1,n2):\n",
        "  return n1*n2\n",
        "def divide(n1,n2):\n",
        "  return n1/n2\n",
        "operations={\n",
        "    \"+\":add,\n",
        "    \"-\":subtract,\n",
        "    \"x\":multiply,\n",
        "    \"/\":divide,\n",
        "}\n",
        "def calculator():\n",
        "  a=int(input(\"Enter the 1st number\\n => \"))\n",
        "  b=int(input(\"Enter the 2nd number\\n => \"))\n",
        "  c=input(\"Enter the operation(+,-,x,/) you would like to perform\\n => \").lower()\n",
        "  prev_anpswer=operations[c](a,b)\n",
        "  print(f\"{a}{c}{b}={operations[c](a,b)}\")\n",
        "  should_continue=True\n",
        "  while should_continue:\n",
        "    choice=input(\"Do you want to continue with previous output(type 'y'for yes)or Do you want to start a new calcilation(type 'n' for new calculation)or none for termination\").lower()\n",
        "    if choice==\"y\":\n",
        "      a=prev_answer\n",
        "      b=int(input(\"Enter the 2nd number\\n => \"))\n",
        "      c=input(\"Enter the operation(+,-,x,/) you would like to perform\\n => \").lower()\n",
        "      prev_answer=operations[c](a,b)\n",
        "      print(f\"{a}{c}{b}={operations[c](a,b)}\")\n",
        "    else:\n",
        "      should_continue=False\n",
        "\n",
        "calculator()"
      ],
      "metadata": {
        "colab": {
          "base_uri": "https://localhost:8080/",
          "height": 855
        },
        "id": "fOjSKYnVvAuR",
        "outputId": "823f1cf5-da91-4b76-e512-aab71bc58f4e"
      },
      "execution_count": 17,
      "outputs": [
        {
          "name": "stdout",
          "output_type": "stream",
          "text": [
            "\n",
            " _____________________\n",
            "|  _________________  |\n",
            "| | Pythonista   0. | |  .----------------.  .----------------.  .----------------.  .----------------.\n",
            "| |_________________| | | .--------------. || .--------------. || .--------------. || .--------------. |\n",
            "|  ___ ___ ___   ___  | | |     ______   | || |      __      | || |   _____      | || |     ______   | |\n",
            "| | 7 | 8 | 9 | | + | | | |   .' ___  |  | || |     /  \\     | || |  |_   _|     | || |   .' ___  |  | |\n",
            "| |___|___|___| |___| | | |  / .'   \\_|  | || |    / /\\ \\    | || |    | |       | || |  / .'   \\_|  | |\n",
            "| | 4 | 5 | 6 | | - | | | |  | |         | || |   / ____ \\   | || |    | |   _   | || |  | |         | |\n",
            "| |___|___|___| |___| | | |  \\ '.___.'\\  | || | _/ /    \\ \\_ | || |   _| |__/ |  | || |  \\ '.___.'\\  | |\n",
            "| | 1 | 2 | 3 | | x | | | |   '._____.'  | || ||____|  |____|| || |  |________|  | || |   '._____.'  | |\n",
            "| |___|___|___| |___| | | |              | || |              | || |              | || |              | |\n",
            "| | . | 0 | = | | / | | | '--------------' || '--------------' || '--------------' || '--------------' |\n",
            "| |___|___|___| |___| |  '----------------'  '----------------'  '----------------'  '----------------'\n",
            "|_____________________|\n",
            "\n",
            "Enter the 1st number\n",
            " => 2\n",
            "Enter the 2nd number\n",
            " => 2\n",
            "Enter the operation(+,-,x,/) you would like to perform\n",
            " => x\n",
            "Enter the 1st number\n",
            " => 3\n",
            "Enter the 2nd number\n",
            " => 3\n",
            "Enter the operation(+,-,x,/) you would like to perform\n",
            " => x\n",
            "3x3=9\n",
            "Do you want to continue with previous output(type 'y'for yes)or Do you want to start a new calcilation(type 'n' for new calculation)or none for terminationy\n"
          ]
        },
        {
          "output_type": "error",
          "ename": "UnboundLocalError",
          "evalue": "local variable 'prev_answer' referenced before assignment",
          "traceback": [
            "\u001b[0;31m---------------------------------------------------------------------------\u001b[0m",
            "\u001b[0;31mUnboundLocalError\u001b[0m                         Traceback (most recent call last)",
            "\u001b[0;32m<ipython-input-17-8a1356d3e4a5>\u001b[0m in \u001b[0;36m<cell line: 52>\u001b[0;34m()\u001b[0m\n\u001b[1;32m     50\u001b[0m       \u001b[0mshould_continue\u001b[0m\u001b[0;34m=\u001b[0m\u001b[0;32mFalse\u001b[0m\u001b[0;34m\u001b[0m\u001b[0;34m\u001b[0m\u001b[0m\n\u001b[1;32m     51\u001b[0m \u001b[0;34m\u001b[0m\u001b[0m\n\u001b[0;32m---> 52\u001b[0;31m \u001b[0mcalculator\u001b[0m\u001b[0;34m(\u001b[0m\u001b[0;34m)\u001b[0m\u001b[0;34m\u001b[0m\u001b[0;34m\u001b[0m\u001b[0m\n\u001b[0m",
            "\u001b[0;32m<ipython-input-17-8a1356d3e4a5>\u001b[0m in \u001b[0;36mcalculator\u001b[0;34m()\u001b[0m\n\u001b[1;32m     42\u001b[0m     \u001b[0mchoice\u001b[0m\u001b[0;34m=\u001b[0m\u001b[0minput\u001b[0m\u001b[0;34m(\u001b[0m\u001b[0;34m\"Do you want to continue with previous output(type 'y'for yes)or Do you want to start a new calcilation(type 'n' for new calculation)or none for termination\"\u001b[0m\u001b[0;34m)\u001b[0m\u001b[0;34m.\u001b[0m\u001b[0mlower\u001b[0m\u001b[0;34m(\u001b[0m\u001b[0;34m)\u001b[0m\u001b[0;34m\u001b[0m\u001b[0;34m\u001b[0m\u001b[0m\n\u001b[1;32m     43\u001b[0m     \u001b[0;32mif\u001b[0m \u001b[0mchoice\u001b[0m\u001b[0;34m==\u001b[0m\u001b[0;34m\"y\"\u001b[0m\u001b[0;34m:\u001b[0m\u001b[0;34m\u001b[0m\u001b[0;34m\u001b[0m\u001b[0m\n\u001b[0;32m---> 44\u001b[0;31m       \u001b[0ma\u001b[0m\u001b[0;34m=\u001b[0m\u001b[0mprev_answer\u001b[0m\u001b[0;34m\u001b[0m\u001b[0;34m\u001b[0m\u001b[0m\n\u001b[0m\u001b[1;32m     45\u001b[0m       \u001b[0mb\u001b[0m\u001b[0;34m=\u001b[0m\u001b[0mint\u001b[0m\u001b[0;34m(\u001b[0m\u001b[0minput\u001b[0m\u001b[0;34m(\u001b[0m\u001b[0;34m\"Enter the 2nd number\\n => \"\u001b[0m\u001b[0;34m)\u001b[0m\u001b[0;34m)\u001b[0m\u001b[0;34m\u001b[0m\u001b[0;34m\u001b[0m\u001b[0m\n\u001b[1;32m     46\u001b[0m       \u001b[0mc\u001b[0m\u001b[0;34m=\u001b[0m\u001b[0minput\u001b[0m\u001b[0;34m(\u001b[0m\u001b[0;34m\"Enter the operation(+,-,x,/) you would like to perform\\n => \"\u001b[0m\u001b[0;34m)\u001b[0m\u001b[0;34m.\u001b[0m\u001b[0mlower\u001b[0m\u001b[0;34m(\u001b[0m\u001b[0;34m)\u001b[0m\u001b[0;34m\u001b[0m\u001b[0;34m\u001b[0m\u001b[0m\n",
            "\u001b[0;31mUnboundLocalError\u001b[0m: local variable 'prev_answer' referenced before assignment"
          ]
        }
      ]
    },
    {
      "cell_type": "markdown",
      "source": [],
      "metadata": {
        "id": "CWugsL9xl38I"
      }
    },
    {
      "cell_type": "code",
      "source": [
        "def add(n1, n2):\n",
        "    return n1 + n2\n",
        "\n",
        "def subtract(n1, n2):\n",
        "    return n1 - n2\n",
        "\n",
        "def multiply(n1, n2):\n",
        "    return n1 * n2\n",
        "\n",
        "def divide(n1, n2):\n",
        "    return n1 / n2\n",
        "\n",
        "operations = {\n",
        "    \"+\": add,\n",
        "    \"-\": subtract,\n",
        "    \"x\": multiply,\n",
        "    \"/\": divide,\n",
        "}\n",
        "\n",
        "def calculator():\n",
        "    a = int(input(\"Enter the 1st number\\n => \"))\n",
        "    b = int(input(\"Enter the 2nd number\\n => \"))\n",
        "    c = input(\"Enter the operation (+, -, x, /) you would like to perform\\n => \").lower()\n",
        "    prev_answer = operations[c](a, b)\n",
        "    print(f\"{a} {c} {b} = {prev_answer}\")\n",
        "\n",
        "    should_continue = True\n",
        "    while should_continue:\n",
        "        choice = input(\n",
        "            \"\\nDo you want to continue with the previous output? (type 'y' for yes) \"\n",
        "            \"or start a new calculation (type 'n') or press Enter to exit: \"\n",
        "        ).lower()\n",
        "\n",
        "        if choice == \"y\":\n",
        "            # Use previous answer for the next calculation\n",
        "            a = prev_answer\n",
        "            b = int(input(\"Enter the next number\\n => \"))\n",
        "            c = input(\"Enter the operation (+, -, x, /) you would like to perform\\n => \").lower()\n",
        "            prev_answer = operations[c](a, b)\n",
        "            print(f\"{a} {c} {b} = {prev_answer}\")\n",
        "\n",
        "        elif choice == \"n\":\n",
        "            # Start a new calculation\n",
        "            a = int(input(\"Enter the 1st number\\n => \"))\n",
        "            b = int(input(\"Enter the 2nd number\\n => \"))\n",
        "            c = input(\"Enter the operation (+, -, x, /) you would like to perform\\n => \").lower()\n",
        "            prev_answer = operations[c](a, b)\n",
        "            print(f\"{a} {c} {b} = {prev_answer}\")\n",
        "\n",
        "        else:\n",
        "            # Terminate the calculator\n",
        "            should_continue = False\n",
        "            print(\"Goodbye!\")\n",
        "\n",
        "# Start the calculator\n",
        "calculator()\n"
      ],
      "metadata": {
        "colab": {
          "base_uri": "https://localhost:8080/"
        },
        "id": "2D7ZEGJeaG_7",
        "outputId": "5066ab66-fc17-4ce2-cbb0-73df6cd4c382"
      },
      "execution_count": 18,
      "outputs": [
        {
          "output_type": "stream",
          "name": "stdout",
          "text": [
            "Enter the 1st number\n",
            " => 2\n",
            "Enter the 2nd number\n",
            " => 2\n",
            "Enter the operation (+, -, x, /) you would like to perform\n",
            " => x\n",
            "2 x 2 = 4\n",
            "\n",
            "Do you want to continue with the previous output? (type 'y' for yes) or start a new calculation (type 'n') or press Enter to exit: y\n",
            "Enter the next number\n",
            " => 89\n",
            "Enter the operation (+, -, x, /) you would like to perform\n",
            " => x\n",
            "4 x 89 = 356\n",
            "\n",
            "Do you want to continue with the previous output? (type 'y' for yes) or start a new calculation (type 'n') or press Enter to exit: n\n",
            "Enter the 1st number\n",
            " => 5\n",
            "Enter the 2nd number\n",
            " => 43\n",
            "Enter the operation (+, -, x, /) you would like to perform\n",
            " => x\n",
            "5 x 43 = 215\n",
            "\n",
            "Do you want to continue with the previous output? (type 'y' for yes) or start a new calculation (type 'n') or press Enter to exit: y\n",
            "Enter the next number\n",
            " => 56\n",
            "Enter the operation (+, -, x, /) you would like to perform\n",
            " => x\n",
            "215 x 56 = 12040\n",
            "\n",
            "Do you want to continue with the previous output? (type 'y' for yes) or start a new calculation (type 'n') or press Enter to exit: exit\n",
            "Goodbye!\n"
          ]
        }
      ]
    }
  ]
}