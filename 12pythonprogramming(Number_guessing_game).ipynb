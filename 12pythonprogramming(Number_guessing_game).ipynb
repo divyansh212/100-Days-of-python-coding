{
  "nbformat": 4,
  "nbformat_minor": 0,
  "metadata": {
    "colab": {
      "provenance": [],
      "authorship_tag": "ABX9TyPBOWsmBr+YBCZuq2GHih8Y",
      "include_colab_link": true
    },
    "kernelspec": {
      "name": "python3",
      "display_name": "Python 3"
    },
    "language_info": {
      "name": "python"
    }
  },
  "cells": [
    {
      "cell_type": "markdown",
      "metadata": {
        "id": "view-in-github",
        "colab_type": "text"
      },
      "source": [
        "<a href=\"https://colab.research.google.com/github/divyansh212/100-Days-of-python-coding/blob/main/12pythonprogramming(Number_guessing_game).ipynb\" target=\"_parent\"><img src=\"https://colab.research.google.com/assets/colab-badge.svg\" alt=\"Open In Colab\"/></a>"
      ]
    },
    {
      "cell_type": "markdown",
      "source": [],
      "metadata": {
        "id": "CWV8HYmZaXpL"
      }
    },
    {
      "cell_type": "code",
      "source": [
        "#scope\n",
        "#local scope\n",
        "x=20\n",
        "def xyz():\n",
        "  global x\n",
        "  y=10\n",
        "  x+=80\n",
        "  return x,y\n",
        "\"\"\"\n",
        "print(y)\n",
        "since this variable y is not avaible outside the fucntion thus it is giving nameerror\n",
        "\"\"\"\n",
        "#Global scope\n",
        "print(xyz())\n",
        "print(x)\n",
        "#x is printed inside of te function as well as outside the function because it is defined outside of the function\n",
        "#There is no block scope in python\n",
        "\n",
        "\n",
        "#How to modify variables with global scope\n"
      ],
      "metadata": {
        "colab": {
          "base_uri": "https://localhost:8080/"
        },
        "id": "z8CcMidIYzyH",
        "outputId": "c89c5ec6-c206-44ee-ac50-923d0a497980"
      },
      "execution_count": null,
      "outputs": [
        {
          "output_type": "stream",
          "name": "stdout",
          "text": [
            "(100, 10)\n",
            "100\n"
          ]
        }
      ]
    },
    {
      "cell_type": "code",
      "source": [
        "from random import randint\n",
        "print(\"WELCOME TO THE NUMBER GUESSING GAME !\")\n",
        "NUM=randint(0,101)\n",
        "choice=input(\"Enter a level hard/med/easy!\").lower()\n",
        "if choice==\"hard\":\n",
        "  attempt=5\n",
        "  print(f\"You have {attempt} attempt\")\n",
        "if choice==\"med\":\n",
        "  attempt=7\n",
        "  print(f\"You have {attempt} attempt\")\n",
        "if choice==\"easy\":\n",
        "  attempt=10\n",
        "  print(f\"You have {attempt} attempt\")\n",
        "Game_over=False\n",
        "print(Num)\n",
        "while not Game_over:\n",
        "  Guess=int(input(\"Make a guess: \"))\n",
        "  if Guess==Num:\n",
        "    Game_over=True\n",
        "    print(\"You have Guessed the Number correctly\")\n",
        "  elif attempt!=0:\n",
        "    if Guess>Num:\n",
        "      print(\"You have Guessed High,Try Again\")\n",
        "    elif Num>Guess:\n",
        "      print(\"You have Guess Low,Try Again\")\n",
        "    attempt-=1\n",
        "    print(f\"attempt left  {attempt}\")\n",
        "  elif attempt==0:\n",
        "    Game_over=True\n",
        "    print(\"You lost,refresh to play game again\")\n",
        "  else:\n",
        "    print(\"something bad has occured\")\n"
      ],
      "metadata": {
        "colab": {
          "base_uri": "https://localhost:8080/"
        },
        "id": "Kp_LMCMbNZ97",
        "outputId": "08dbbff8-08ab-408a-c310-34070eb7331a"
      },
      "execution_count": 5,
      "outputs": [
        {
          "output_type": "stream",
          "name": "stdout",
          "text": [
            "WELCOME TO THE NUMBER GUESSING GAME !\n",
            "Enter a level hard/med/easy!easy\n",
            "You have 10 attempt\n",
            "67\n",
            "Make a guess: 100\n",
            "You have Guessed High,Try Again\n",
            "attempt left  9\n",
            "Make a guess: 70\n",
            "You have Guessed High,Try Again\n",
            "attempt left  8\n",
            "Make a guess: 60\n",
            "You have Guess Low,Try Again\n",
            "attempt left  7\n",
            "Make a guess: 65\n",
            "You have Guess Low,Try Again\n",
            "attempt left  6\n",
            "Make a guess: 67\n",
            "You have Guessed the Number correctly\n"
          ]
        }
      ]
    }
  ]
}