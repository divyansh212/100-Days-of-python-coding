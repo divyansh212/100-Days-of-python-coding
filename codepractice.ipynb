{
  "nbformat": 4,
  "nbformat_minor": 0,
  "metadata": {
    "colab": {
      "provenance": [],
      "authorship_tag": "ABX9TyORYx2y3GL+rNFvrXDstoD2",
      "include_colab_link": true
    },
    "kernelspec": {
      "name": "python3",
      "display_name": "Python 3"
    },
    "language_info": {
      "name": "python"
    }
  },
  "cells": [
    {
      "cell_type": "markdown",
      "metadata": {
        "id": "view-in-github",
        "colab_type": "text"
      },
      "source": [
        "<a href=\"https://colab.research.google.com/github/divyansh212/100-Days-of-python-coding/blob/main/codepractice.ipynb\" target=\"_parent\"><img src=\"https://colab.research.google.com/assets/colab-badge.svg\" alt=\"Open In Colab\"/></a>"
      ]
    },
    {
      "cell_type": "code",
      "execution_count": null,
      "metadata": {
        "colab": {
          "base_uri": "https://localhost:8080/"
        },
        "id": "iHHIU_qsZRhq",
        "outputId": "3acf074a-d1a9-4bb7-c3cf-a5f7efb48c4c"
      },
      "outputs": [
        {
          "output_type": "stream",
          "name": "stdout",
          "text": [
            "Enter your first number 2\n",
            "enter your 2nd number4\n",
            "6\n"
          ]
        }
      ],
      "source": [
        "num1=int(input(\"Enter your first number \"))\n",
        "num2=int(input(\"enter your 2nd number\"))\n",
        "sum=num1+num2\n",
        "print(sum)"
      ]
    },
    {
      "cell_type": "code",
      "source": [
        "side=int(input(\"enter the side of the square of your choice\"))\n",
        "AREA=side*side\n",
        "print(AREA)"
      ],
      "metadata": {
        "colab": {
          "base_uri": "https://localhost:8080/"
        },
        "id": "wO_xVZbOaLo6",
        "outputId": "81de967c-1286-47f0-ea9c-cdb926ca5596"
      },
      "execution_count": null,
      "outputs": [
        {
          "output_type": "stream",
          "name": "stdout",
          "text": [
            "enter the side of the square of your choice2\n",
            "4\n"
          ]
        }
      ]
    },
    {
      "cell_type": "code",
      "source": [
        "NUM1=float(input(\"Enter the 1st number\"))\n",
        "NUM2=float(input(\"Enter your 2nd number\"))\n",
        "average=(NUM1+NUM2)/2\n",
        "print(average)"
      ],
      "metadata": {
        "colab": {
          "base_uri": "https://localhost:8080/"
        },
        "id": "LE_mCSytaqnz",
        "outputId": "1a431960-3be9-481b-9be7-cfe1b7519293"
      },
      "execution_count": null,
      "outputs": [
        {
          "output_type": "stream",
          "name": "stdout",
          "text": [
            "Enter the 1st number2\n",
            "Enter your 2nd number3\n",
            "2.5\n"
          ]
        }
      ]
    },
    {
      "cell_type": "code",
      "source": [
        "a=int(input(\"enter the 1st number\"))\n",
        "b=int(input(\"enter the 2nd number \"))\n",
        "if a>b:\n",
        "  print(\"True\")\n",
        "else:\n",
        "  print(\"false\")"
      ],
      "metadata": {
        "colab": {
          "base_uri": "https://localhost:8080/"
        },
        "id": "qjVIzde2bYWp",
        "outputId": "38fe7f09-c8a5-4eca-afb2-583c997e7bf8"
      },
      "execution_count": null,
      "outputs": [
        {
          "output_type": "stream",
          "name": "stdout",
          "text": [
            "enter the 1st number2\n",
            "enter the 2nd number 4\n",
            "false\n"
          ]
        }
      ]
    },
    {
      "cell_type": "code",
      "source": [
        "Name1=input(\"Enter your 1st name :\")\n",
        "Name2=input(\"Enter your last name :\")\n",
        "Name=Name1+\" \"+Name2\n",
        "print(len(Name)-1)"
      ],
      "metadata": {
        "colab": {
          "base_uri": "https://localhost:8080/"
        },
        "id": "FY-v1EQt0efM",
        "outputId": "f76f02c0-803d-4010-a0f7-fa7e8393a402"
      },
      "execution_count": null,
      "outputs": [
        {
          "output_type": "stream",
          "name": "stdout",
          "text": [
            "Enter your 1st name :Dhruv\n",
            "Enter your last name :Jain\n",
            "9\n"
          ]
        }
      ]
    },
    {
      "cell_type": "code",
      "source": [
        "str=\"$I am $ symbol and my value is $99.99\"\n",
        "print(str.count(\"$\"))"
      ],
      "metadata": {
        "colab": {
          "base_uri": "https://localhost:8080/"
        },
        "id": "cHtQu6PP1fjL",
        "outputId": "f75d06ce-fe78-463a-8c24-7ca3e4789b1a"
      },
      "execution_count": null,
      "outputs": [
        {
          "output_type": "stream",
          "name": "stdout",
          "text": [
            "3\n"
          ]
        }
      ]
    },
    {
      "cell_type": "code",
      "source": [
        "number=int(input(\"Enter a number :\"))\n",
        "if number%2==0:\n",
        "  print(\"the number is even\")\n",
        "else:\n",
        "  print(\"the number is odd\")"
      ],
      "metadata": {
        "colab": {
          "base_uri": "https://localhost:8080/"
        },
        "id": "v2kZCftN7Hnp",
        "outputId": "c2669f60-f809-4176-eda3-d5386d46602a"
      },
      "execution_count": null,
      "outputs": [
        {
          "output_type": "stream",
          "name": "stdout",
          "text": [
            "Enter a number :3\n",
            "the number is odd\n"
          ]
        }
      ]
    },
    {
      "cell_type": "code",
      "source": [
        "num1=int(input(\"enter a number \"))\n",
        "Greatest_number=num1\n",
        "num2=int(input(\"enter a number \"))\n",
        "if num2>num1:\n",
        "  Greatest_number=num2\n",
        "num3=int(input(\"enter a number \"))\n",
        "if Greatest_number<num3:\n",
        "  Greatest_number=num3\n",
        "print(Greatest_number)"
      ],
      "metadata": {
        "colab": {
          "base_uri": "https://localhost:8080/"
        },
        "id": "xIStBkCP7mDd",
        "outputId": "65751d67-3e97-499c-8df7-7ca2d8881afb"
      },
      "execution_count": null,
      "outputs": [
        {
          "output_type": "stream",
          "name": "stdout",
          "text": [
            "enter a number 45\n",
            "enter a number 90\n",
            "enter a number 0\n",
            "90\n"
          ]
        }
      ]
    },
    {
      "cell_type": "code",
      "source": [
        "num=int(input(\"enter a Number\"))\n",
        "if num%7==0:\n",
        "  print(\"Number is a multiple of 7\")\n",
        "else:\n",
        "  print(\"Number is not multiple of 7\")"
      ],
      "metadata": {
        "colab": {
          "base_uri": "https://localhost:8080/"
        },
        "id": "jPkVj50P8i0j",
        "outputId": "a2e1719e-f179-4106-8abe-2591a39c560e"
      },
      "execution_count": null,
      "outputs": [
        {
          "output_type": "stream",
          "name": "stdout",
          "text": [
            "enter a Number80\n",
            "Number is not multiple of 7\n"
          ]
        }
      ]
    },
    {
      "cell_type": "code",
      "source": [
        "movie1=input(\"enter name of your fvrt movie \")\n",
        "movie2=input(\"enter name of your fvrt movie \")\n",
        "movie3=input(\"enter name of your fvrt movie \")\n",
        "fvrt_movies=[movie1,movie2,movie3]\n",
        "print(fvrt_movies)"
      ],
      "metadata": {
        "colab": {
          "base_uri": "https://localhost:8080/"
        },
        "id": "XTlB68TmMglM",
        "outputId": "edbcea26-7fad-4699-c8e0-56703a0752d0"
      },
      "execution_count": null,
      "outputs": [
        {
          "output_type": "stream",
          "name": "stdout",
          "text": [
            "enter name of your fvrt movie harry pottter 1\n",
            "enter name of your fvrt movie harry potter 2\n",
            "enter name of your fvrt movie harry potter 3\n",
            "['harry pottter 1', 'harry potter 2', 'harry potter 3']\n"
          ]
        }
      ]
    },
    {
      "cell_type": "code",
      "source": [
        "list1=[1,2,1]\n",
        "list2=[1,2,3,4,45,90]\n",
        "list3=list1.copy()\n",
        "list3.reverse()\n",
        "if list3==list1:\n",
        "  print(\"Given list has palindrome \")\n",
        "list4=list2.copy()\n",
        "list4.reverse()\n",
        "if list4==list2:\n",
        "  print(\"Given list has palindrome\")\n",
        "else:\n",
        "  print(\"Given list does not have plaindrome\")\n"
      ],
      "metadata": {
        "colab": {
          "base_uri": "https://localhost:8080/"
        },
        "id": "5fGtEqa8PDYW",
        "outputId": "ebee9980-fd38-4df4-de94-b156e73a6272"
      },
      "execution_count": null,
      "outputs": [
        {
          "output_type": "stream",
          "name": "stdout",
          "text": [
            "Given list has palindrome \n",
            "Given list does not have plaindrome\n"
          ]
        }
      ]
    },
    {
      "cell_type": "code",
      "source": [
        "tup=(\"c\",\"D\",\"A\",\"A\",\"B\",\"B\",\"A\")\n",
        "tup.count(\"A\")"
      ],
      "metadata": {
        "colab": {
          "base_uri": "https://localhost:8080/"
        },
        "id": "a653Y27ASjpj",
        "outputId": "b12a5d53-15ea-4c06-a8f3-47c2cc7d66c9"
      },
      "execution_count": null,
      "outputs": [
        {
          "output_type": "execute_result",
          "data": {
            "text/plain": [
              "3"
            ]
          },
          "metadata": {},
          "execution_count": 25
        }
      ]
    },
    {
      "cell_type": "code",
      "source": [
        "list1=[\"c\",\"D\",\"A\",\"A\",\"B\",\"B\",\"A\"]\n",
        "list2=list1.sort()\n",
        "print(list1)"
      ],
      "metadata": {
        "colab": {
          "base_uri": "https://localhost:8080/"
        },
        "id": "jv70XMdsS8e0",
        "outputId": "f720ff54-9bbb-4f87-b4b2-6725fa1ddd90"
      },
      "execution_count": null,
      "outputs": [
        {
          "output_type": "stream",
          "name": "stdout",
          "text": [
            "['A', 'A', 'A', 'B', 'B', 'D', 'c']\n"
          ]
        }
      ]
    },
    {
      "cell_type": "code",
      "source": [
        "random_words={\n",
        "    \"table\":\"a piece of furniture\",\n",
        "    \"cat\":\"a small animal\",\n",
        "    \"facts\":[\"taj mahal \",\"mount teresa\"]\n",
        "}\n",
        "print(random_words)"
      ],
      "metadata": {
        "colab": {
          "base_uri": "https://localhost:8080/"
        },
        "id": "cPlDpuZOVr01",
        "outputId": "df7d3b7f-4ae9-420c-80f6-82da4d2d4203"
      },
      "execution_count": null,
      "outputs": [
        {
          "output_type": "stream",
          "name": "stdout",
          "text": [
            "{'table': 'a piece of furniture', 'cat': 'a small animal', 'facts': ['taj mahal ', 'mount teresa']}\n"
          ]
        }
      ]
    },
    {
      "cell_type": "code",
      "source": [
        "classroom={\n",
        "    \"sub\":[\"python\",\"java\",\"c++\",\"python\",\"javascript\",\"java\",\"python\",\"java\",\"c++\",\"c\"],\n",
        "\n",
        "}\n",
        "print(len(classroom[\"sub\"]))\n",
        "sub={\"python\",\"java\",\"c++\",\"python\",\"javascript\",\"java\",\"python\",\"java\",\"c++\",\"c\"}\n",
        "print(len(sub))"
      ],
      "metadata": {
        "colab": {
          "base_uri": "https://localhost:8080/"
        },
        "id": "AANcpAU0WU2r",
        "outputId": "54a30c8a-e9b5-48cb-cd2f-e091e9c1a3d9"
      },
      "execution_count": null,
      "outputs": [
        {
          "output_type": "stream",
          "name": "stdout",
          "text": [
            "10\n",
            "5\n"
          ]
        }
      ]
    },
    {
      "cell_type": "code",
      "source": [
        "sub1=input(\"Enter the subject\")\n",
        "marks1=int(input(\"Enter marks in the subject\"))\n",
        "sub2=input(\"Enter 2nd subject\")\n",
        "marks2=int(input(\"Enter marks of the 2nd sunject\"))\n",
        "sub3=input(\"Enter the 3rd subject\")\n",
        "marks3=int(input(\"Enter marks in the 3rd  subject\"))\n",
        "students_marks={}\n",
        "usxd={\n",
        "    sub1:marks1,\n",
        "    sub2:marks2,\n",
        "    sub3:marks3\n",
        "}\n",
        "students_marks.update(usxd)\n",
        "print(students_marks)"
      ],
      "metadata": {
        "colab": {
          "base_uri": "https://localhost:8080/"
        },
        "id": "3_hPPIVkXilC",
        "outputId": "7287c1bc-2825-451a-8630-80ecedc074f4"
      },
      "execution_count": null,
      "outputs": [
        {
          "output_type": "stream",
          "name": "stdout",
          "text": [
            "Enter the subjectphy\n",
            "Enter marks in the subject66\n",
            "Enter 2nd subjectchem\n",
            "Enter marks of the 2nd sunject80\n",
            "Enter the 3rd subjectmaths\n",
            "Enter marks in the 3rd  subject76\n",
            "{'phy': 66, 'chem': 80, 'maths': 76}\n"
          ]
        }
      ]
    },
    {
      "cell_type": "code",
      "source": [
        "set={9,\"9.0\"}\n",
        "set1={(9,type(9)),(9.0,type(9.0))}\n",
        "print(set1)\n",
        "print(set)\n",
        "\n"
      ],
      "metadata": {
        "colab": {
          "base_uri": "https://localhost:8080/"
        },
        "id": "WoCHNaGAaUGa",
        "outputId": "5def1a1d-6c50-4bce-bd78-02c3b247f206"
      },
      "execution_count": null,
      "outputs": [
        {
          "output_type": "stream",
          "name": "stdout",
          "text": [
            "{(9, <class 'int'>), (9.0, <class 'float'>)}\n",
            "{'9.0', 9}\n"
          ]
        }
      ]
    },
    {
      "cell_type": "code",
      "source": [
        "x=1\n",
        "while x<101:\n",
        "  print(x)\n",
        "  x+=1\n"
      ],
      "metadata": {
        "colab": {
          "base_uri": "https://localhost:8080/"
        },
        "id": "oqQsziHyqVIC",
        "outputId": "2b8aae31-31b2-472d-d811-a7a0ab318a40"
      },
      "execution_count": null,
      "outputs": [
        {
          "output_type": "stream",
          "name": "stdout",
          "text": [
            "1\n",
            "2\n",
            "3\n",
            "4\n",
            "5\n",
            "6\n",
            "7\n",
            "8\n",
            "9\n",
            "10\n",
            "11\n",
            "12\n",
            "13\n",
            "14\n",
            "15\n",
            "16\n",
            "17\n",
            "18\n",
            "19\n",
            "20\n",
            "21\n",
            "22\n",
            "23\n",
            "24\n",
            "25\n",
            "26\n",
            "27\n",
            "28\n",
            "29\n",
            "30\n",
            "31\n",
            "32\n",
            "33\n",
            "34\n",
            "35\n",
            "36\n",
            "37\n",
            "38\n",
            "39\n",
            "40\n",
            "41\n",
            "42\n",
            "43\n",
            "44\n",
            "45\n",
            "46\n",
            "47\n",
            "48\n",
            "49\n",
            "50\n",
            "51\n",
            "52\n",
            "53\n",
            "54\n",
            "55\n",
            "56\n",
            "57\n",
            "58\n",
            "59\n",
            "60\n",
            "61\n",
            "62\n",
            "63\n",
            "64\n",
            "65\n",
            "66\n",
            "67\n",
            "68\n",
            "69\n",
            "70\n",
            "71\n",
            "72\n",
            "73\n",
            "74\n",
            "75\n",
            "76\n",
            "77\n",
            "78\n",
            "79\n",
            "80\n",
            "81\n",
            "82\n",
            "83\n",
            "84\n",
            "85\n",
            "86\n",
            "87\n",
            "88\n",
            "89\n",
            "90\n",
            "91\n",
            "92\n",
            "93\n",
            "94\n",
            "95\n",
            "96\n",
            "97\n",
            "98\n",
            "99\n",
            "100\n"
          ]
        }
      ]
    },
    {
      "cell_type": "code",
      "source": [
        "x=100\n",
        "while x>0:\n",
        "  print(x)\n",
        "  x-=1\n",
        "\n"
      ],
      "metadata": {
        "colab": {
          "base_uri": "https://localhost:8080/"
        },
        "id": "gkgj7RprqWQ-",
        "outputId": "48d6d351-20cb-47de-f3bc-babdc099ce59"
      },
      "execution_count": null,
      "outputs": [
        {
          "output_type": "stream",
          "name": "stdout",
          "text": [
            "100\n",
            "99\n",
            "98\n",
            "97\n",
            "96\n",
            "95\n",
            "94\n",
            "93\n",
            "92\n",
            "91\n",
            "90\n",
            "89\n",
            "88\n",
            "87\n",
            "86\n",
            "85\n",
            "84\n",
            "83\n",
            "82\n",
            "81\n",
            "80\n",
            "79\n",
            "78\n",
            "77\n",
            "76\n",
            "75\n",
            "74\n",
            "73\n",
            "72\n",
            "71\n",
            "70\n",
            "69\n",
            "68\n",
            "67\n",
            "66\n",
            "65\n",
            "64\n",
            "63\n",
            "62\n",
            "61\n",
            "60\n",
            "59\n",
            "58\n",
            "57\n",
            "56\n",
            "55\n",
            "54\n",
            "53\n",
            "52\n",
            "51\n",
            "50\n",
            "49\n",
            "48\n",
            "47\n",
            "46\n",
            "45\n",
            "44\n",
            "43\n",
            "42\n",
            "41\n",
            "40\n",
            "39\n",
            "38\n",
            "37\n",
            "36\n",
            "35\n",
            "34\n",
            "33\n",
            "32\n",
            "31\n",
            "30\n",
            "29\n",
            "28\n",
            "27\n",
            "26\n",
            "25\n",
            "24\n",
            "23\n",
            "22\n",
            "21\n",
            "20\n",
            "19\n",
            "18\n",
            "17\n",
            "16\n",
            "15\n",
            "14\n",
            "13\n",
            "12\n",
            "11\n",
            "10\n",
            "9\n",
            "8\n",
            "7\n",
            "6\n",
            "5\n",
            "4\n",
            "3\n",
            "2\n",
            "1\n"
          ]
        }
      ]
    },
    {
      "cell_type": "code",
      "source": [
        "n=int(input(\"Enter a number: \"))\n",
        "b=int(input(\"Enter the number you want multiplication of the number\"))\n",
        "c=1\n",
        "while b>0:\n",
        "  print(n*c)\n",
        "  c+=1\n",
        "  b-=1"
      ],
      "metadata": {
        "colab": {
          "base_uri": "https://localhost:8080/"
        },
        "id": "viHWXUFbqW6g",
        "outputId": "bf3c9519-7600-40a0-c22b-53f1e621f539"
      },
      "execution_count": null,
      "outputs": [
        {
          "output_type": "stream",
          "name": "stdout",
          "text": [
            "Enter a number: 7\n",
            "Enter the number you want multiplication of the number10\n",
            "7\n",
            "14\n",
            "21\n",
            "28\n",
            "35\n",
            "42\n",
            "49\n",
            "56\n",
            "63\n",
            "70\n"
          ]
        }
      ]
    },
    {
      "cell_type": "code",
      "source": [
        "numbers=[1,4,9,16,25,36,49,64,81,100]\n",
        "i=0\n",
        "while i<len(numbers):\n",
        "  print (numbers[i])\n",
        "  i+=1\n"
      ],
      "metadata": {
        "colab": {
          "base_uri": "https://localhost:8080/"
        },
        "id": "Q1rKoljXsrRi",
        "outputId": "3e4e4f12-e1e8-4330-cc7b-dd35f26b883e"
      },
      "execution_count": null,
      "outputs": [
        {
          "output_type": "stream",
          "name": "stdout",
          "text": [
            "1\n",
            "4\n",
            "9\n",
            "16\n",
            "25\n",
            "36\n",
            "49\n",
            "64\n",
            "81\n",
            "100\n"
          ]
        }
      ]
    },
    {
      "cell_type": "code",
      "source": [
        "numbers=(1,4,9,16,25,36,49,64,81,100)\n",
        "x=int(input(\"Enter a number\"))\n",
        "i=0\n",
        "while i<len(numbers):\n",
        "  if numbers[i]==x:\n",
        "    print(x,\",\",i)\n",
        "  i+=1\n"
      ],
      "metadata": {
        "colab": {
          "base_uri": "https://localhost:8080/"
        },
        "id": "DcgTWqwtuKbJ",
        "outputId": "089edc60-0c48-403c-e83c-c74fcee4d8b8"
      },
      "execution_count": null,
      "outputs": [
        {
          "output_type": "stream",
          "name": "stdout",
          "text": [
            "Enter a number36\n",
            "36 , 5\n"
          ]
        }
      ]
    },
    {
      "cell_type": "code",
      "source": [
        "def average(a,b,c):\n",
        "  average=(a+b+c)/33\n",
        "  #print(average)\n",
        "  return average\n",
        "p=int(input(\"Enter the number : \"))\n",
        "q=int(input(\"enter the number: \"))\n",
        "r=int(input(\"Enter the number : \"))\n",
        "average(p,q,r)"
      ],
      "metadata": {
        "colab": {
          "base_uri": "https://localhost:8080/"
        },
        "id": "4qCnjt4z5FGV",
        "outputId": "3f9df020-711e-422e-cd05-6bd1c88e87b8"
      },
      "execution_count": null,
      "outputs": [
        {
          "name": "stdout",
          "output_type": "stream",
          "text": [
            "Enter the number : 3\n",
            "enter the number: 3\n",
            "Enter the number : 3\n"
          ]
        },
        {
          "output_type": "execute_result",
          "data": {
            "text/plain": [
              "3.0"
            ]
          },
          "metadata": {},
          "execution_count": 5
        }
      ]
    },
    {
      "cell_type": "code",
      "source": [
        "def average(a, b, c):\n",
        "    average = (a + b + c) / 3\n",
        "    return average\n",
        "\n",
        "p = 10\n",
        "q = 20\n",
        "r = 30\n",
        "\n",
        "average(p, q, r)  # No print() function here\n"
      ],
      "metadata": {
        "colab": {
          "base_uri": "https://localhost:8080/"
        },
        "id": "xITyrXeS67J6",
        "outputId": "85311ac6-87ac-488f-c5c6-8ec667dafab7"
      },
      "execution_count": null,
      "outputs": [
        {
          "output_type": "execute_result",
          "data": {
            "text/plain": [
              "20.0"
            ]
          },
          "metadata": {},
          "execution_count": 6
        }
      ]
    },
    {
      "cell_type": "code",
      "source": [
        "def elements_of_list(list):\n",
        "  for i in list:\n",
        "    print(i,end=\",\")\n",
        "a=[1,2,3,4,5,6,7,8,8,9,00,0,8,65,3,21,1,0,3,4,6,8,9]\n",
        "elements_of_list(a)"
      ],
      "metadata": {
        "colab": {
          "base_uri": "https://localhost:8080/"
        },
        "id": "ofwXpKA_9uXD",
        "outputId": "4e5eadc6-5c57-4f74-f1c5-10a191f6d5de"
      },
      "execution_count": null,
      "outputs": [
        {
          "output_type": "stream",
          "name": "stdout",
          "text": [
            "1,2,3,4,5,6,7,8,8,9,0,0,8,65,3,21,1,0,3,4,6,8,9,"
          ]
        }
      ]
    },
    {
      "cell_type": "code",
      "source": [
        "def length_list(list):\n",
        "  length_list=len(list)\n",
        "  return length_list\n",
        "a=[1,2,3,4,5,6,7,8,8,9,00,0,8,65,3,21,1,0,3,4,6,8,9]\n",
        "length_list(a)\n",
        "print(len(a))\n"
      ],
      "metadata": {
        "colab": {
          "base_uri": "https://localhost:8080/"
        },
        "id": "ofDwdBog9udM",
        "outputId": "830aee5c-a884-4e04-f02b-db2879901915"
      },
      "execution_count": null,
      "outputs": [
        {
          "output_type": "stream",
          "name": "stdout",
          "text": [
            "23\n"
          ]
        }
      ]
    },
    {
      "cell_type": "code",
      "source": [
        "def factorial(n):\n",
        "  prod=1\n",
        "  for i in range(1,n+1):\n",
        "    prod=prod*i\n",
        "  return prod\n",
        "n=int(input(\"Enter the number you want to find factorial of: \"))\n",
        "factorial(n)"
      ],
      "metadata": {
        "colab": {
          "base_uri": "https://localhost:8080/"
        },
        "id": "hy4qs7UC_Ulb",
        "outputId": "2f05e85b-953b-4848-f992-b116dc14553c"
      },
      "execution_count": null,
      "outputs": [
        {
          "name": "stdout",
          "output_type": "stream",
          "text": [
            "Enter the number you want to find factorial of: 5\n"
          ]
        },
        {
          "output_type": "execute_result",
          "data": {
            "text/plain": [
              "120"
            ]
          },
          "metadata": {},
          "execution_count": 15
        }
      ]
    },
    {
      "cell_type": "code",
      "source": [
        "def usd_to_inr(usd):\n",
        "  inr=86*usd\n",
        "  print(\"₹\",inr,sep=\"\")\n",
        "  return inr\n",
        "dollars=int(input(\"Enter how many dollars you have:$\"))\n",
        "usd_to_inr(dollars)"
      ],
      "metadata": {
        "colab": {
          "base_uri": "https://localhost:8080/"
        },
        "id": "SkulYqg5AZRm",
        "outputId": "d429f0c3-de29-455f-c18e-b05067fcf053"
      },
      "execution_count": null,
      "outputs": [
        {
          "output_type": "stream",
          "name": "stdout",
          "text": [
            "Enter how many dollars you have:$99\n",
            "₹8514\n"
          ]
        },
        {
          "output_type": "execute_result",
          "data": {
            "text/plain": [
              "8514"
            ]
          },
          "metadata": {},
          "execution_count": 21
        }
      ]
    },
    {
      "cell_type": "code",
      "source": [
        "def odd_or_even(n):\n",
        "  if n%2==0:\n",
        "    print(\"even\")\n",
        "  else:\n",
        "    print(\"odd\")\n",
        "n=int(input(\"Enter number: \"))\n",
        "odd_or_even(n)\n"
      ],
      "metadata": {
        "colab": {
          "base_uri": "https://localhost:8080/"
        },
        "id": "Zv6uOsxwCe85",
        "outputId": "eaeb0230-52ea-430b-be49-08db8300b040"
      },
      "execution_count": null,
      "outputs": [
        {
          "output_type": "stream",
          "name": "stdout",
          "text": [
            "Enter number: 5\n",
            "odd\n"
          ]
        }
      ]
    },
    {
      "cell_type": "code",
      "source": [
        "def sum(n):\n",
        "  if n==0:\n",
        "    return 0\n",
        "  return sum(n-1)+n\n",
        "sum(5)"
      ],
      "metadata": {
        "colab": {
          "base_uri": "https://localhost:8080/"
        },
        "id": "v9TKtg5lG3w5",
        "outputId": "dc06a51f-cfc4-4051-94f2-0db575ba8068"
      },
      "execution_count": null,
      "outputs": [
        {
          "output_type": "execute_result",
          "data": {
            "text/plain": [
              "15"
            ]
          },
          "metadata": {},
          "execution_count": 31
        }
      ]
    },
    {
      "cell_type": "code",
      "source": [
        "def elements_of_list(list,idx=0):\n",
        "  if idx==len(list):\n",
        "    return\n",
        "  print(list[idx])\n",
        "  elements_of_list(list,idx+1)\n",
        "a=[1,2,3,4,5,6,7,8,8,9,00,0,8,65,3,21,1,0,3,4,6,8,9]\n",
        "elements_of_list(a)\n",
        "\n"
      ],
      "metadata": {
        "colab": {
          "base_uri": "https://localhost:8080/"
        },
        "id": "Ct39SrEfJoWs",
        "outputId": "e7244bca-3e79-439a-c1d1-5626feee2ddc"
      },
      "execution_count": null,
      "outputs": [
        {
          "output_type": "stream",
          "name": "stdout",
          "text": [
            "1\n",
            "2\n",
            "3\n",
            "4\n",
            "5\n",
            "6\n",
            "7\n",
            "8\n",
            "8\n",
            "9\n",
            "0\n",
            "0\n",
            "8\n",
            "65\n",
            "3\n",
            "21\n",
            "1\n",
            "0\n",
            "3\n",
            "4\n",
            "6\n",
            "8\n",
            "9\n"
          ]
        }
      ]
    },
    {
      "cell_type": "code",
      "source": [
        "with open(\"practice.txt\",\"w\")as f:\n",
        "  f.write(\"hi everyone\\n we are learning file i/o \\n using java \\n I like programming in java\")\n",
        "\n"
      ],
      "metadata": {
        "id": "bMT4zlqfG0pt"
      },
      "execution_count": 12,
      "outputs": []
    },
    {
      "cell_type": "code",
      "source": [
        "with open(\"practice.txt\",\"r\") as f:\n",
        "  data=f.read()\n",
        "new_data=data.replace(\"Java\",\"Python\")\n",
        "print(new_data)"
      ],
      "metadata": {
        "colab": {
          "base_uri": "https://localhost:8080/"
        },
        "id": "erS2gT-GIngj",
        "outputId": "ab964c08-31f2-4c69-d99f-3109194c2832"
      },
      "execution_count": 13,
      "outputs": [
        {
          "output_type": "stream",
          "name": "stdout",
          "text": [
            "hi everyone\n",
            " we are learning file i/o \n",
            " using java \n",
            " I like programming in java\n"
          ]
        }
      ]
    },
    {
      "cell_type": "code",
      "source": [
        "with open(\"practice.txt\",\"w\") as f:\n",
        "  f.write(new_data)"
      ],
      "metadata": {
        "id": "c8TrrtgVKrdy"
      },
      "execution_count": 14,
      "outputs": []
    },
    {
      "cell_type": "code",
      "source": [
        "with open(\"practice.txt\",\"r\") as f:\n",
        "  n=f.read()\n",
        "print(n)"
      ],
      "metadata": {
        "colab": {
          "base_uri": "https://localhost:8080/"
        },
        "id": "5b-wr32UKKKW",
        "outputId": "a2b4238d-fda5-4ecf-c7ff-5e1efd269dd9"
      },
      "execution_count": 15,
      "outputs": [
        {
          "output_type": "stream",
          "name": "stdout",
          "text": [
            "hi everyone\n",
            " we are learning file i/o \n",
            " using java \n",
            " I like programming in java\n"
          ]
        }
      ]
    },
    {
      "cell_type": "code",
      "source": [
        "def check_forword():\n",
        "  with open(\"practice.txt\",\"r\") as f:\n",
        "    data=f.read()\n",
        "    if data.find(\"java\")!=1:\n",
        "      print(\"found\")\n",
        "    else:\n",
        "      print(\"not found\")\n",
        "check_forword()"
      ],
      "metadata": {
        "colab": {
          "base_uri": "https://localhost:8080/"
        },
        "id": "kUOzj3anLeL_",
        "outputId": "0d214257-d322-443f-e3ab-1cbabfe6c5e3"
      },
      "execution_count": 24,
      "outputs": [
        {
          "output_type": "stream",
          "name": "stdout",
          "text": [
            "found\n"
          ]
        }
      ]
    },
    {
      "cell_type": "code",
      "source": [
        "def check_for_line():\n",
        "  data=True\n",
        "  line_no=1\n",
        "  with open(\"practice.txt\",\"r\") as f:\n",
        "    while data:\n",
        "      data=f.readline()\n",
        "      if \"programming \" in data:\n",
        "        print(line_no)\n",
        "        return\n",
        "      else:\n",
        "        line_no+=1\n",
        "  return -1\n",
        "check_for_line()\n"
      ],
      "metadata": {
        "colab": {
          "base_uri": "https://localhost:8080/"
        },
        "id": "MnAuVtpRL9gc",
        "outputId": "719227ad-c762-4f99-8973-272b9a2a0aee"
      },
      "execution_count": 30,
      "outputs": [
        {
          "output_type": "stream",
          "name": "stdout",
          "text": [
            "4\n"
          ]
        }
      ]
    }
  ]
}