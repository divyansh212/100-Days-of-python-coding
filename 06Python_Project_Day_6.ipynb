{
  "nbformat": 4,
  "nbformat_minor": 0,
  "metadata": {
    "colab": {
      "provenance": [],
      "authorship_tag": "ABX9TyOCP8vmmmQbTHPoeFQexFSM",
      "include_colab_link": true
    },
    "kernelspec": {
      "name": "python3",
      "display_name": "Python 3"
    },
    "language_info": {
      "name": "python"
    }
  },
  "cells": [
    {
      "cell_type": "markdown",
      "metadata": {
        "id": "view-in-github",
        "colab_type": "text"
      },
      "source": [
        "<a href=\"https://colab.research.google.com/github/divyansh212/100-Days-of-python-coding/blob/main/Python_Project_Day_6.ipynb\" target=\"_parent\"><img src=\"https://colab.research.google.com/assets/colab-badge.svg\" alt=\"Open In Colab\"/></a>"
      ]
    },
    {
      "cell_type": "code",
      "execution_count": 2,
      "metadata": {
        "colab": {
          "base_uri": "https://localhost:8080/"
        },
        "id": "E0y6pGqc_d87",
        "outputId": "b64135ae-cba0-4e2a-a096-5107bee8878d"
      },
      "outputs": [
        {
          "output_type": "stream",
          "name": "stdout",
          "text": [
            "hello world\n"
          ]
        }
      ],
      "source": [
        "def my_function():\n",
        "  print(\"hello world\")\n",
        "my_function()"
      ]
    },
    {
      "cell_type": "code",
      "source": [
        "#karel Game\n",
        "def turn_right():\n",
        "   turn_left()\n",
        "   turn_left()\n",
        "   turn_left()\n",
        "def turn_straight():\n",
        "    turn_right()\n",
        "\n",
        "def hurdle_steps():\n",
        "    move()\n",
        "    turn_left()\n",
        "    move()\n",
        "    turn_straight()\n",
        "    move()\n",
        "    turn_right()\n",
        "    move()\n",
        "    turn_left()\n",
        "hurdle_steps()\n",
        "for i in range(5):\n",
        "    hurdle_steps()"
      ],
      "metadata": {
        "id": "hFlR6CapQfYm"
      },
      "execution_count": null,
      "outputs": []
    },
    {
      "cell_type": "code",
      "source": [
        "#karel game\n",
        "def turn_right():\n",
        "   turn_left()\n",
        "   turn_left()\n",
        "   turn_left()\n",
        "def turn_straight():\n",
        "    turn_right()\n",
        "while not at_goal():\n",
        "    if wall_in_front():\n",
        "        turn_left()\n",
        "    elif right_is_clear():\n",
        "        turn_right()\n",
        "        move()\n",
        "    elif front_is_clear():\n",
        "        move()"
      ],
      "metadata": {
        "id": "AZIPLgmfhtws"
      },
      "execution_count": null,
      "outputs": []
    },
    {
      "cell_type": "code",
      "source": [
        "#karel game\n",
        "def turn_right():\n",
        "    turn_left()\n",
        "    turn_left()\n",
        "    turn_left()\n",
        "def jump():\n",
        "    turn_left()\n",
        "    while wall_on_right():\n",
        "        move()\n",
        "    turn_right()\n",
        "    move()\n",
        "    turn_right()\n",
        "    while front_is_clear():\n",
        "        move()\n",
        "    turn_left()\n",
        "while not at_goal():\n",
        "    if wall_in_front():\n",
        "        jump()\n",
        "    else:\n",
        "        move()\n",
        ""
      ],
      "metadata": {
        "id": "gksFvJHIg-J2"
      },
      "execution_count": null,
      "outputs": []
    },
    {
      "cell_type": "code",
      "source": [
        "#karel game\n",
        "def turn_right():\n",
        "    turn_left()\n",
        "    turn_left()\n",
        "    turn_left()\n",
        "while front_is_clear():\n",
        "    move()\n",
        "turn_left()\n",
        "while not at_goal():\n",
        "    if right_is_clear():\n",
        "        turn_right()\n",
        "        move()\n",
        "    elif front_is_clear():\n",
        "        move()\n",
        "    else:\n",
        "        turn_left()\n"
      ],
      "metadata": {
        "id": "xr9sziz9QrXJ"
      },
      "execution_count": null,
      "outputs": []
    }
  ]
}
