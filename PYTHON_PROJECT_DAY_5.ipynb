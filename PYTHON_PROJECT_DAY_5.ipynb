{
  "nbformat": 4,
  "nbformat_minor": 0,
  "metadata": {
    "colab": {
      "provenance": [],
      "authorship_tag": "ABX9TyPHo3nC8nXknmOSaeLj56lq",
      "include_colab_link": true
    },
    "kernelspec": {
      "name": "python3",
      "display_name": "Python 3"
    },
    "language_info": {
      "name": "python"
    }
  },
  "cells": [
    {
      "cell_type": "markdown",
      "metadata": {
        "id": "view-in-github",
        "colab_type": "text"
      },
      "source": [
        "<a href=\"https://colab.research.google.com/github/divyansh212/100-Days-of-python-coding/blob/main/PYTHON_PROJECT_DAY_5.ipynb\" target=\"_parent\"><img src=\"https://colab.research.google.com/assets/colab-badge.svg\" alt=\"Open In Colab\"/></a>"
      ]
    },
    {
      "cell_type": "code",
      "execution_count": 5,
      "metadata": {
        "id": "FBdOQplaa1eF",
        "colab": {
          "base_uri": "https://localhost:8080/"
        },
        "outputId": "ae1d1b80-689c-4fa0-9b91-673f50d8ba8c"
      },
      "outputs": [
        {
          "output_type": "stream",
          "name": "stdout",
          "text": [
            "APPLE  pie\n",
            "MANGO pie\n",
            "PEACH pie\n"
          ]
        }
      ],
      "source": [
        "FRUITS =[\"APPLE \", \"MANGO\",\"PEACH\"]\n",
        "for I in  FRUITS:\n",
        "    print(I + \" pie\")"
      ]
    },
    {
      "cell_type": "code",
      "source": [
        "Numbers=[57,89,13,94,6,75,44,3,81,47,91,22,56,40,8,32,65,26,18,99,62,1,37,15,83,70,92,4,33,14,28,55,19,93,2,87,71,95,64,10,24,39,5,77,68,48,100,11,30,21,79,34,63,27,20,84,74,16,54,82,9,38,60,53,25,29,98,49,35,43,67,45,66,17,7,12,31,88,72,59,96,23,50,76,85,36,41,46,58,78,86,97,42,52,73,61,90,80,51,69]\n",
        "a=sum(Numbers)\n",
        "c=max(Numbers)\n",
        "d=min(Numbers)\n",
        "b=0\n",
        "e=0\n",
        "print(a)\n",
        "print(c)\n",
        "print(d)\n",
        "for i in Numbers:\n",
        "  b+=i\n",
        "print(b)\n",
        "for i in Numbers:\n",
        "   if i>e:\n",
        "    e=i\n",
        "print(e)\n",
        "for i in Numbers:\n",
        "   if i<e:\n",
        "    e=i\n",
        "print(e)\n",
        "\n",
        "\n",
        ""
      ],
      "metadata": {
        "colab": {
          "base_uri": "https://localhost:8080/"
        },
        "id": "yGXa4J5PdCAQ",
        "outputId": "a9d458de-4b63-4e2c-e257-f48d8930f5cd"
      },
      "execution_count": 17,
      "outputs": [
        {
          "output_type": "stream",
          "name": "stdout",
          "text": [
            "5050\n",
            "100\n",
            "1\n",
            "5050\n",
            "100\n",
            "1\n"
          ]
        }
      ]
    },
    {
      "cell_type": "code",
      "source": [
        "a=0\n",
        "for i in range(1,101):\n",
        "  a+=i\n",
        "print(a)\n",
        ""
      ],
      "metadata": {
        "colab": {
          "base_uri": "https://localhost:8080/"
        },
        "id": "Ux1PLxhhg9rN",
        "outputId": "e0d69140-3aac-4fa6-c69f-107139811296"
      },
      "execution_count": 19,
      "outputs": [
        {
          "output_type": "stream",
          "name": "stdout",
          "text": [
            "5050\n"
          ]
        }
      ]
    },
    {
      "cell_type": "markdown",
      "source": [
        "Final Project of Day 5\n",
        "Python Password Generator"
      ],
      "metadata": {
        "id": "GkS9ucNbiNFQ"
      }
    },
    {
      "cell_type": "code",
      "source": [
        "A=[\"A\", \"a\", \"B\", \"b\", \"C\", \"c\", \"D\", \"d\", \"E\", \"e\", \"F\", \"f\", \"G\", \"g\", \"H\", \"h\", \"I\", \"i\", \"J\", \"j\", \"K\", \"k\", \"L\", \"l\", \"M\", \"m\", \"N\", \"n\", \"O\", \"o\", \"P\", \"p\", \"Q\", \"q\", \"R\", \"r\", \"S\", \"s\", \"T\", \"t\", \"U\", \"u\", \"V\", \"v\", \"W\", \"w\", \"X\", \"x\", \"Y\", \"y\", \"Z\", \"z\"]\n",
        "B =[\"0\",\"1\",\"2\",\"3\",\"4\",\"5\",\"6\",\"7\",\"8\",\"9\"]\n",
        "C =[\"**\",\"!\", \"@\", \"#\", \"$\", \"%\", \"^\", \"&\", \"*\", \"(\", \")\", \"_\", \"-\", \"+\", \"=\", \"{\", \"}\", \"[\", \"]\", \"|\", \"\\\\\", \":\", \";\", \"\\\"\", \"'\", \"<\", \">\", \",\", \".\", \"?\", \"/\", \"~\", \"`\",\"**\",\"!\", \"@\", \"#\", \"$\", \"%\", \"^\", \"&\", \"*\", \"(\", \")\", \"_\", \"-\", \"+\", \"=\", \"{\", \"}\", \"[\", \"]\", \"|\", \"\\\\\", \":\", \";\", \"\\\"\", \"'\", \"<\", \">\", \",\", \".\", \"?\", \"/\", \"~\", \"`\"]\n",
        "import random\n",
        "print(\"Welcome to Password Generator\")\n",
        "a=int(input(\"How many letters would you like in your password?\\n =\"))\n",
        "b=int(input(\"How many symbols would you like?\\n =\"))\n",
        "c=int(input(\"How many numbers would you like?\\n =\"))\n",
        "passocde=\"\"\n",
        "for i in range(1,a+1):\n",
        "  passocde+=random.choice(A)\n",
        "for i in range(1,b+1):\n",
        "  passocde+=random.choice(C)\n",
        "for i in range(1,c+1):\n",
        "  passocde+=random.choice(B)\n",
        "print(f\"You'r Password is Going to be {passocde}\")\n"
      ],
      "metadata": {
        "colab": {
          "base_uri": "https://localhost:8080/"
        },
        "id": "jF1lafNeomvL",
        "outputId": "647295b0-4e27-4a28-a491-f0ca9e4c620a"
      },
      "execution_count": 28,
      "outputs": [
        {
          "output_type": "stream",
          "name": "stdout",
          "text": [
            "Welcome to Password Generator\n",
            "How many letters would you like in your password?\n",
            " =2\n",
            "How many symbols would you like?\n",
            " =2\n",
            "How many numbers would you like?\n",
            " =2\n",
            "You'r Password is Going to be Hi@@55\n"
          ]
        }
      ]
    }
  ]
}